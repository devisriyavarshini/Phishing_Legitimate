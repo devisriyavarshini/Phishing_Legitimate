{
  "nbformat": 4,
  "nbformat_minor": 0,
  "metadata": {
    "colab": {
      "provenance": [],
      "authorship_tag": "ABX9TyM68ngmevyVKn0T37/Jschp",
      "include_colab_link": true
    },
    "kernelspec": {
      "name": "python3",
      "display_name": "Python 3"
    },
    "language_info": {
      "name": "python"
    }
  },
  "cells": [
    {
      "cell_type": "markdown",
      "metadata": {
        "id": "view-in-github",
        "colab_type": "text"
      },
      "source": [
        "<a href=\"https://colab.research.google.com/github/devisriyavarshini/Phishing_Legitimate/blob/main/phishing.ipynb\" target=\"_parent\"><img src=\"https://colab.research.google.com/assets/colab-badge.svg\" alt=\"Open In Colab\"/></a>"
      ]
    },
    {
      "cell_type": "markdown",
      "source": [
        "**Importing the dependencies:**\n",
        "\n",
        "In this, I have imported all the necessary packages.\n",
        "\n",
        "\n",
        "*   pandas - used for working with datasets\n",
        "*   numpy - used an open source mathematical and scientific computing library for Python programming task\n",
        "\n",
        "\n",
        "*   seaborn -  library for making statistical graphics in Python\n",
        "*   scipy - provides more utility functions for optimization, stats and signal processing\n",
        "\n",
        "\n",
        "*   sklearn - contains a lot of efficient tools for machine learning and statistical modeling\n",
        "\n",
        "\n",
        "\n",
        "\n",
        "\n"
      ],
      "metadata": {
        "id": "YAfxMAYoSZGB"
      }
    },
    {
      "cell_type": "code",
      "execution_count": null,
      "metadata": {
        "id": "Qj-Aqitf-JdK"
      },
      "outputs": [],
      "source": [
        "import pandas as pd\n",
        "import numpy as np\n",
        "import matplotlib.pyplot as plt\n",
        "import seaborn as sns\n",
        "from scipy.stats import norm\n",
        "from scipy import stats\n",
        "from sklearn.decomposition import PCA\n",
        "from sklearn.preprocessing import StandardScaler\n",
        "from sklearn.model_selection import train_test_split\n",
        "from sklearn.linear_model import LogisticRegression\n",
        "from sklearn.tree import DecisionTreeClassifier\n",
        "from sklearn.ensemble import RandomForestClassifier\n",
        "from sklearn.svm import SVC\n",
        "from xgboost import XGBClassifier\n",
        "from sklearn.neural_network import MLPClassifier\n",
        "from sklearn.metrics import accuracy_score,classification_report\n",
        "import warnings\n",
        "warnings.filterwarnings('ignore')"
      ]
    },
    {
      "cell_type": "code",
      "source": [
        "df = pd.read_csv('/content/Phishing_Legitimate_full.csv')"
      ],
      "metadata": {
        "id": "axMLqN8EBB6J"
      },
      "execution_count": null,
      "outputs": []
    },
    {
      "cell_type": "code",
      "source": [
        "column_name = 'CLASS_LABEL'\n",
        "row_counts = df[column_name].value_counts()\n",
        "\n",
        "print(f\"Number of rows for each class in '{column_name}':\")\n",
        "print(row_counts)"
      ],
      "metadata": {
        "id": "zhdy9fjJ-NjK",
        "colab": {
          "base_uri": "https://localhost:8080/"
        },
        "outputId": "c83b08eb-b943-4840-aee8-4f9cb6543b87"
      },
      "execution_count": null,
      "outputs": [
        {
          "output_type": "stream",
          "name": "stdout",
          "text": [
            "Number of rows for each class in 'CLASS_LABEL':\n",
            "CLASS_LABEL\n",
            "1    5000\n",
            "0    5000\n",
            "Name: count, dtype: int64\n"
          ]
        }
      ]
    },
    {
      "cell_type": "markdown",
      "source": [
        "**Dataset Description:**\n",
        "\n",
        "In this, I have printed data types for all the features present in dataset and also checked for null values. I also have calculated the mean,standard deviation, minimum value and maximum value in each feature, and all the percentiles."
      ],
      "metadata": {
        "id": "tQjr_Q_4Su4e"
      }
    },
    {
      "cell_type": "code",
      "source": [
        "print(f\"{df.dtypes}\\n\")\n",
        "print(f\"Dimension:{df.shape[0]} x {df.shape[1]}\")\n",
        "datatype_counts = df.dtypes.value_counts()\n",
        "for dtype, count in datatype_counts.items():\n",
        "  print(f\"{dtype}: {count} columns\")"
      ],
      "metadata": {
        "colab": {
          "base_uri": "https://localhost:8080/"
        },
        "id": "rW7N_68uA_yw",
        "outputId": "3d26b974-0d9f-4678-8b00-aa75a5f09847"
      },
      "execution_count": null,
      "outputs": [
        {
          "output_type": "stream",
          "name": "stdout",
          "text": [
            "id                                      int64\n",
            "NumDots                                 int64\n",
            "SubdomainLevel                          int64\n",
            "PathLevel                               int64\n",
            "UrlLength                               int64\n",
            "NumDash                                 int64\n",
            "NumDashInHostname                       int64\n",
            "AtSymbol                                int64\n",
            "TildeSymbol                             int64\n",
            "NumUnderscore                           int64\n",
            "NumPercent                              int64\n",
            "NumQueryComponents                      int64\n",
            "NumAmpersand                            int64\n",
            "NumHash                                 int64\n",
            "NumNumericChars                         int64\n",
            "NoHttps                                 int64\n",
            "RandomString                            int64\n",
            "IpAddress                               int64\n",
            "DomainInSubdomains                      int64\n",
            "DomainInPaths                           int64\n",
            "HttpsInHostname                         int64\n",
            "HostnameLength                          int64\n",
            "PathLength                              int64\n",
            "QueryLength                             int64\n",
            "DoubleSlashInPath                       int64\n",
            "NumSensitiveWords                       int64\n",
            "EmbeddedBrandName                       int64\n",
            "PctExtHyperlinks                      float64\n",
            "PctExtResourceUrls                    float64\n",
            "ExtFavicon                              int64\n",
            "InsecureForms                           int64\n",
            "RelativeFormAction                      int64\n",
            "ExtFormAction                           int64\n",
            "AbnormalFormAction                      int64\n",
            "PctNullSelfRedirectHyperlinks         float64\n",
            "FrequentDomainNameMismatch              int64\n",
            "FakeLinkInStatusBar                     int64\n",
            "RightClickDisabled                      int64\n",
            "PopUpWindow                             int64\n",
            "SubmitInfoToEmail                       int64\n",
            "IframeOrFrame                           int64\n",
            "MissingTitle                            int64\n",
            "ImagesOnlyInForm                        int64\n",
            "SubdomainLevelRT                        int64\n",
            "UrlLengthRT                             int64\n",
            "PctExtResourceUrlsRT                    int64\n",
            "AbnormalExtFormActionR                  int64\n",
            "ExtMetaScriptLinkRT                     int64\n",
            "PctExtNullSelfRedirectHyperlinksRT      int64\n",
            "CLASS_LABEL                             int64\n",
            "dtype: object\n",
            "\n",
            "Dimension:10000 x 50\n",
            "int64: 47 columns\n",
            "float64: 3 columns\n"
          ]
        }
      ]
    },
    {
      "cell_type": "code",
      "source": [
        "df = df.drop(\"id\",axis=1)"
      ],
      "metadata": {
        "id": "UmzJp9ZzBR8u"
      },
      "execution_count": null,
      "outputs": []
    },
    {
      "cell_type": "code",
      "source": [
        "null = df.isnull().sum()\n",
        "for i in range(len(df.columns)):\n",
        "  print(f\"{df.columns[i]}: {null[i]} ({(null[i]/len(df))*100}%)\")\n",
        "total_cells = np.prod(df.shape)\n",
        "total_missing = null.sum()\n",
        "print(f\"\\nTotal missing values: {total_missing} ({(total_missing/total_cells)*100}%)\\n\")"
      ],
      "metadata": {
        "colab": {
          "base_uri": "https://localhost:8080/"
        },
        "id": "m-Yt71ipBMzd",
        "outputId": "c9ae2b5c-3756-458f-d630-2bb6a5a86d27"
      },
      "execution_count": null,
      "outputs": [
        {
          "output_type": "stream",
          "name": "stdout",
          "text": [
            "NumDots: 0 (0.0%)\n",
            "SubdomainLevel: 0 (0.0%)\n",
            "PathLevel: 0 (0.0%)\n",
            "UrlLength: 0 (0.0%)\n",
            "NumDash: 0 (0.0%)\n",
            "NumDashInHostname: 0 (0.0%)\n",
            "AtSymbol: 0 (0.0%)\n",
            "TildeSymbol: 0 (0.0%)\n",
            "NumUnderscore: 0 (0.0%)\n",
            "NumPercent: 0 (0.0%)\n",
            "NumQueryComponents: 0 (0.0%)\n",
            "NumAmpersand: 0 (0.0%)\n",
            "NumHash: 0 (0.0%)\n",
            "NumNumericChars: 0 (0.0%)\n",
            "NoHttps: 0 (0.0%)\n",
            "RandomString: 0 (0.0%)\n",
            "IpAddress: 0 (0.0%)\n",
            "DomainInSubdomains: 0 (0.0%)\n",
            "DomainInPaths: 0 (0.0%)\n",
            "HttpsInHostname: 0 (0.0%)\n",
            "HostnameLength: 0 (0.0%)\n",
            "PathLength: 0 (0.0%)\n",
            "QueryLength: 0 (0.0%)\n",
            "DoubleSlashInPath: 0 (0.0%)\n",
            "NumSensitiveWords: 0 (0.0%)\n",
            "EmbeddedBrandName: 0 (0.0%)\n",
            "PctExtHyperlinks: 0 (0.0%)\n",
            "PctExtResourceUrls: 0 (0.0%)\n",
            "ExtFavicon: 0 (0.0%)\n",
            "InsecureForms: 0 (0.0%)\n",
            "RelativeFormAction: 0 (0.0%)\n",
            "ExtFormAction: 0 (0.0%)\n",
            "AbnormalFormAction: 0 (0.0%)\n",
            "PctNullSelfRedirectHyperlinks: 0 (0.0%)\n",
            "FrequentDomainNameMismatch: 0 (0.0%)\n",
            "FakeLinkInStatusBar: 0 (0.0%)\n",
            "RightClickDisabled: 0 (0.0%)\n",
            "PopUpWindow: 0 (0.0%)\n",
            "SubmitInfoToEmail: 0 (0.0%)\n",
            "IframeOrFrame: 0 (0.0%)\n",
            "MissingTitle: 0 (0.0%)\n",
            "ImagesOnlyInForm: 0 (0.0%)\n",
            "SubdomainLevelRT: 0 (0.0%)\n",
            "UrlLengthRT: 0 (0.0%)\n",
            "PctExtResourceUrlsRT: 0 (0.0%)\n",
            "AbnormalExtFormActionR: 0 (0.0%)\n",
            "ExtMetaScriptLinkRT: 0 (0.0%)\n",
            "PctExtNullSelfRedirectHyperlinksRT: 0 (0.0%)\n",
            "CLASS_LABEL: 0 (0.0%)\n",
            "\n",
            "Total missing values: 0 (0.0%)\n",
            "\n"
          ]
        }
      ]
    },
    {
      "cell_type": "code",
      "source": [
        "df.head()"
      ],
      "metadata": {
        "colab": {
          "base_uri": "https://localhost:8080/",
          "height": 255
        },
        "id": "703Qa1ShBUxU",
        "outputId": "0e0ddd74-b39d-4d98-f42f-4ce27654384b"
      },
      "execution_count": null,
      "outputs": [
        {
          "output_type": "execute_result",
          "data": {
            "text/plain": [
              "   NumDots  SubdomainLevel  PathLevel  UrlLength  NumDash  NumDashInHostname  \\\n",
              "0        3               1          5         72        0                  0   \n",
              "1        3               1          3        144        0                  0   \n",
              "2        3               1          2         58        0                  0   \n",
              "3        3               1          6         79        1                  0   \n",
              "4        3               0          4         46        0                  0   \n",
              "\n",
              "   AtSymbol  TildeSymbol  NumUnderscore  NumPercent  ...  IframeOrFrame  \\\n",
              "0         0            0              0           0  ...              0   \n",
              "1         0            0              2           0  ...              0   \n",
              "2         0            0              0           0  ...              0   \n",
              "3         0            0              0           0  ...              0   \n",
              "4         0            0              0           0  ...              1   \n",
              "\n",
              "   MissingTitle  ImagesOnlyInForm  SubdomainLevelRT  UrlLengthRT  \\\n",
              "0             0                 1                 1            0   \n",
              "1             0                 0                 1           -1   \n",
              "2             0                 0                 1            0   \n",
              "3             0                 0                 1           -1   \n",
              "4             0                 0                 1            1   \n",
              "\n",
              "   PctExtResourceUrlsRT  AbnormalExtFormActionR  ExtMetaScriptLinkRT  \\\n",
              "0                     1                       1                   -1   \n",
              "1                     1                       1                    1   \n",
              "2                    -1                       1                   -1   \n",
              "3                     1                       1                    1   \n",
              "4                    -1                       0                   -1   \n",
              "\n",
              "   PctExtNullSelfRedirectHyperlinksRT  CLASS_LABEL  \n",
              "0                                   1            1  \n",
              "1                                   1            1  \n",
              "2                                   0            1  \n",
              "3                                  -1            1  \n",
              "4                                  -1            1  \n",
              "\n",
              "[5 rows x 49 columns]"
            ],
            "text/html": [
              "\n",
              "  <div id=\"df-779b60ad-ec7b-476c-8354-bf44b92bf2f0\" class=\"colab-df-container\">\n",
              "    <div>\n",
              "<style scoped>\n",
              "    .dataframe tbody tr th:only-of-type {\n",
              "        vertical-align: middle;\n",
              "    }\n",
              "\n",
              "    .dataframe tbody tr th {\n",
              "        vertical-align: top;\n",
              "    }\n",
              "\n",
              "    .dataframe thead th {\n",
              "        text-align: right;\n",
              "    }\n",
              "</style>\n",
              "<table border=\"1\" class=\"dataframe\">\n",
              "  <thead>\n",
              "    <tr style=\"text-align: right;\">\n",
              "      <th></th>\n",
              "      <th>NumDots</th>\n",
              "      <th>SubdomainLevel</th>\n",
              "      <th>PathLevel</th>\n",
              "      <th>UrlLength</th>\n",
              "      <th>NumDash</th>\n",
              "      <th>NumDashInHostname</th>\n",
              "      <th>AtSymbol</th>\n",
              "      <th>TildeSymbol</th>\n",
              "      <th>NumUnderscore</th>\n",
              "      <th>NumPercent</th>\n",
              "      <th>...</th>\n",
              "      <th>IframeOrFrame</th>\n",
              "      <th>MissingTitle</th>\n",
              "      <th>ImagesOnlyInForm</th>\n",
              "      <th>SubdomainLevelRT</th>\n",
              "      <th>UrlLengthRT</th>\n",
              "      <th>PctExtResourceUrlsRT</th>\n",
              "      <th>AbnormalExtFormActionR</th>\n",
              "      <th>ExtMetaScriptLinkRT</th>\n",
              "      <th>PctExtNullSelfRedirectHyperlinksRT</th>\n",
              "      <th>CLASS_LABEL</th>\n",
              "    </tr>\n",
              "  </thead>\n",
              "  <tbody>\n",
              "    <tr>\n",
              "      <th>0</th>\n",
              "      <td>3</td>\n",
              "      <td>1</td>\n",
              "      <td>5</td>\n",
              "      <td>72</td>\n",
              "      <td>0</td>\n",
              "      <td>0</td>\n",
              "      <td>0</td>\n",
              "      <td>0</td>\n",
              "      <td>0</td>\n",
              "      <td>0</td>\n",
              "      <td>...</td>\n",
              "      <td>0</td>\n",
              "      <td>0</td>\n",
              "      <td>1</td>\n",
              "      <td>1</td>\n",
              "      <td>0</td>\n",
              "      <td>1</td>\n",
              "      <td>1</td>\n",
              "      <td>-1</td>\n",
              "      <td>1</td>\n",
              "      <td>1</td>\n",
              "    </tr>\n",
              "    <tr>\n",
              "      <th>1</th>\n",
              "      <td>3</td>\n",
              "      <td>1</td>\n",
              "      <td>3</td>\n",
              "      <td>144</td>\n",
              "      <td>0</td>\n",
              "      <td>0</td>\n",
              "      <td>0</td>\n",
              "      <td>0</td>\n",
              "      <td>2</td>\n",
              "      <td>0</td>\n",
              "      <td>...</td>\n",
              "      <td>0</td>\n",
              "      <td>0</td>\n",
              "      <td>0</td>\n",
              "      <td>1</td>\n",
              "      <td>-1</td>\n",
              "      <td>1</td>\n",
              "      <td>1</td>\n",
              "      <td>1</td>\n",
              "      <td>1</td>\n",
              "      <td>1</td>\n",
              "    </tr>\n",
              "    <tr>\n",
              "      <th>2</th>\n",
              "      <td>3</td>\n",
              "      <td>1</td>\n",
              "      <td>2</td>\n",
              "      <td>58</td>\n",
              "      <td>0</td>\n",
              "      <td>0</td>\n",
              "      <td>0</td>\n",
              "      <td>0</td>\n",
              "      <td>0</td>\n",
              "      <td>0</td>\n",
              "      <td>...</td>\n",
              "      <td>0</td>\n",
              "      <td>0</td>\n",
              "      <td>0</td>\n",
              "      <td>1</td>\n",
              "      <td>0</td>\n",
              "      <td>-1</td>\n",
              "      <td>1</td>\n",
              "      <td>-1</td>\n",
              "      <td>0</td>\n",
              "      <td>1</td>\n",
              "    </tr>\n",
              "    <tr>\n",
              "      <th>3</th>\n",
              "      <td>3</td>\n",
              "      <td>1</td>\n",
              "      <td>6</td>\n",
              "      <td>79</td>\n",
              "      <td>1</td>\n",
              "      <td>0</td>\n",
              "      <td>0</td>\n",
              "      <td>0</td>\n",
              "      <td>0</td>\n",
              "      <td>0</td>\n",
              "      <td>...</td>\n",
              "      <td>0</td>\n",
              "      <td>0</td>\n",
              "      <td>0</td>\n",
              "      <td>1</td>\n",
              "      <td>-1</td>\n",
              "      <td>1</td>\n",
              "      <td>1</td>\n",
              "      <td>1</td>\n",
              "      <td>-1</td>\n",
              "      <td>1</td>\n",
              "    </tr>\n",
              "    <tr>\n",
              "      <th>4</th>\n",
              "      <td>3</td>\n",
              "      <td>0</td>\n",
              "      <td>4</td>\n",
              "      <td>46</td>\n",
              "      <td>0</td>\n",
              "      <td>0</td>\n",
              "      <td>0</td>\n",
              "      <td>0</td>\n",
              "      <td>0</td>\n",
              "      <td>0</td>\n",
              "      <td>...</td>\n",
              "      <td>1</td>\n",
              "      <td>0</td>\n",
              "      <td>0</td>\n",
              "      <td>1</td>\n",
              "      <td>1</td>\n",
              "      <td>-1</td>\n",
              "      <td>0</td>\n",
              "      <td>-1</td>\n",
              "      <td>-1</td>\n",
              "      <td>1</td>\n",
              "    </tr>\n",
              "  </tbody>\n",
              "</table>\n",
              "<p>5 rows × 49 columns</p>\n",
              "</div>\n",
              "    <div class=\"colab-df-buttons\">\n",
              "\n",
              "  <div class=\"colab-df-container\">\n",
              "    <button class=\"colab-df-convert\" onclick=\"convertToInteractive('df-779b60ad-ec7b-476c-8354-bf44b92bf2f0')\"\n",
              "            title=\"Convert this dataframe to an interactive table.\"\n",
              "            style=\"display:none;\">\n",
              "\n",
              "  <svg xmlns=\"http://www.w3.org/2000/svg\" height=\"24px\" viewBox=\"0 -960 960 960\">\n",
              "    <path d=\"M120-120v-720h720v720H120Zm60-500h600v-160H180v160Zm220 220h160v-160H400v160Zm0 220h160v-160H400v160ZM180-400h160v-160H180v160Zm440 0h160v-160H620v160ZM180-180h160v-160H180v160Zm440 0h160v-160H620v160Z\"/>\n",
              "  </svg>\n",
              "    </button>\n",
              "\n",
              "  <style>\n",
              "    .colab-df-container {\n",
              "      display:flex;\n",
              "      gap: 12px;\n",
              "    }\n",
              "\n",
              "    .colab-df-convert {\n",
              "      background-color: #E8F0FE;\n",
              "      border: none;\n",
              "      border-radius: 50%;\n",
              "      cursor: pointer;\n",
              "      display: none;\n",
              "      fill: #1967D2;\n",
              "      height: 32px;\n",
              "      padding: 0 0 0 0;\n",
              "      width: 32px;\n",
              "    }\n",
              "\n",
              "    .colab-df-convert:hover {\n",
              "      background-color: #E2EBFA;\n",
              "      box-shadow: 0px 1px 2px rgba(60, 64, 67, 0.3), 0px 1px 3px 1px rgba(60, 64, 67, 0.15);\n",
              "      fill: #174EA6;\n",
              "    }\n",
              "\n",
              "    .colab-df-buttons div {\n",
              "      margin-bottom: 4px;\n",
              "    }\n",
              "\n",
              "    [theme=dark] .colab-df-convert {\n",
              "      background-color: #3B4455;\n",
              "      fill: #D2E3FC;\n",
              "    }\n",
              "\n",
              "    [theme=dark] .colab-df-convert:hover {\n",
              "      background-color: #434B5C;\n",
              "      box-shadow: 0px 1px 3px 1px rgba(0, 0, 0, 0.15);\n",
              "      filter: drop-shadow(0px 1px 2px rgba(0, 0, 0, 0.3));\n",
              "      fill: #FFFFFF;\n",
              "    }\n",
              "  </style>\n",
              "\n",
              "    <script>\n",
              "      const buttonEl =\n",
              "        document.querySelector('#df-779b60ad-ec7b-476c-8354-bf44b92bf2f0 button.colab-df-convert');\n",
              "      buttonEl.style.display =\n",
              "        google.colab.kernel.accessAllowed ? 'block' : 'none';\n",
              "\n",
              "      async function convertToInteractive(key) {\n",
              "        const element = document.querySelector('#df-779b60ad-ec7b-476c-8354-bf44b92bf2f0');\n",
              "        const dataTable =\n",
              "          await google.colab.kernel.invokeFunction('convertToInteractive',\n",
              "                                                    [key], {});\n",
              "        if (!dataTable) return;\n",
              "\n",
              "        const docLinkHtml = 'Like what you see? Visit the ' +\n",
              "          '<a target=\"_blank\" href=https://colab.research.google.com/notebooks/data_table.ipynb>data table notebook</a>'\n",
              "          + ' to learn more about interactive tables.';\n",
              "        element.innerHTML = '';\n",
              "        dataTable['output_type'] = 'display_data';\n",
              "        await google.colab.output.renderOutput(dataTable, element);\n",
              "        const docLink = document.createElement('div');\n",
              "        docLink.innerHTML = docLinkHtml;\n",
              "        element.appendChild(docLink);\n",
              "      }\n",
              "    </script>\n",
              "  </div>\n",
              "\n",
              "\n",
              "<div id=\"df-84b01cb4-92f9-4aad-8bef-839b00b80db2\">\n",
              "  <button class=\"colab-df-quickchart\" onclick=\"quickchart('df-84b01cb4-92f9-4aad-8bef-839b00b80db2')\"\n",
              "            title=\"Suggest charts\"\n",
              "            style=\"display:none;\">\n",
              "\n",
              "<svg xmlns=\"http://www.w3.org/2000/svg\" height=\"24px\"viewBox=\"0 0 24 24\"\n",
              "     width=\"24px\">\n",
              "    <g>\n",
              "        <path d=\"M19 3H5c-1.1 0-2 .9-2 2v14c0 1.1.9 2 2 2h14c1.1 0 2-.9 2-2V5c0-1.1-.9-2-2-2zM9 17H7v-7h2v7zm4 0h-2V7h2v10zm4 0h-2v-4h2v4z\"/>\n",
              "    </g>\n",
              "</svg>\n",
              "  </button>\n",
              "\n",
              "<style>\n",
              "  .colab-df-quickchart {\n",
              "      --bg-color: #E8F0FE;\n",
              "      --fill-color: #1967D2;\n",
              "      --hover-bg-color: #E2EBFA;\n",
              "      --hover-fill-color: #174EA6;\n",
              "      --disabled-fill-color: #AAA;\n",
              "      --disabled-bg-color: #DDD;\n",
              "  }\n",
              "\n",
              "  [theme=dark] .colab-df-quickchart {\n",
              "      --bg-color: #3B4455;\n",
              "      --fill-color: #D2E3FC;\n",
              "      --hover-bg-color: #434B5C;\n",
              "      --hover-fill-color: #FFFFFF;\n",
              "      --disabled-bg-color: #3B4455;\n",
              "      --disabled-fill-color: #666;\n",
              "  }\n",
              "\n",
              "  .colab-df-quickchart {\n",
              "    background-color: var(--bg-color);\n",
              "    border: none;\n",
              "    border-radius: 50%;\n",
              "    cursor: pointer;\n",
              "    display: none;\n",
              "    fill: var(--fill-color);\n",
              "    height: 32px;\n",
              "    padding: 0;\n",
              "    width: 32px;\n",
              "  }\n",
              "\n",
              "  .colab-df-quickchart:hover {\n",
              "    background-color: var(--hover-bg-color);\n",
              "    box-shadow: 0 1px 2px rgba(60, 64, 67, 0.3), 0 1px 3px 1px rgba(60, 64, 67, 0.15);\n",
              "    fill: var(--button-hover-fill-color);\n",
              "  }\n",
              "\n",
              "  .colab-df-quickchart-complete:disabled,\n",
              "  .colab-df-quickchart-complete:disabled:hover {\n",
              "    background-color: var(--disabled-bg-color);\n",
              "    fill: var(--disabled-fill-color);\n",
              "    box-shadow: none;\n",
              "  }\n",
              "\n",
              "  .colab-df-spinner {\n",
              "    border: 2px solid var(--fill-color);\n",
              "    border-color: transparent;\n",
              "    border-bottom-color: var(--fill-color);\n",
              "    animation:\n",
              "      spin 1s steps(1) infinite;\n",
              "  }\n",
              "\n",
              "  @keyframes spin {\n",
              "    0% {\n",
              "      border-color: transparent;\n",
              "      border-bottom-color: var(--fill-color);\n",
              "      border-left-color: var(--fill-color);\n",
              "    }\n",
              "    20% {\n",
              "      border-color: transparent;\n",
              "      border-left-color: var(--fill-color);\n",
              "      border-top-color: var(--fill-color);\n",
              "    }\n",
              "    30% {\n",
              "      border-color: transparent;\n",
              "      border-left-color: var(--fill-color);\n",
              "      border-top-color: var(--fill-color);\n",
              "      border-right-color: var(--fill-color);\n",
              "    }\n",
              "    40% {\n",
              "      border-color: transparent;\n",
              "      border-right-color: var(--fill-color);\n",
              "      border-top-color: var(--fill-color);\n",
              "    }\n",
              "    60% {\n",
              "      border-color: transparent;\n",
              "      border-right-color: var(--fill-color);\n",
              "    }\n",
              "    80% {\n",
              "      border-color: transparent;\n",
              "      border-right-color: var(--fill-color);\n",
              "      border-bottom-color: var(--fill-color);\n",
              "    }\n",
              "    90% {\n",
              "      border-color: transparent;\n",
              "      border-bottom-color: var(--fill-color);\n",
              "    }\n",
              "  }\n",
              "</style>\n",
              "\n",
              "  <script>\n",
              "    async function quickchart(key) {\n",
              "      const quickchartButtonEl =\n",
              "        document.querySelector('#' + key + ' button');\n",
              "      quickchartButtonEl.disabled = true;  // To prevent multiple clicks.\n",
              "      quickchartButtonEl.classList.add('colab-df-spinner');\n",
              "      try {\n",
              "        const charts = await google.colab.kernel.invokeFunction(\n",
              "            'suggestCharts', [key], {});\n",
              "      } catch (error) {\n",
              "        console.error('Error during call to suggestCharts:', error);\n",
              "      }\n",
              "      quickchartButtonEl.classList.remove('colab-df-spinner');\n",
              "      quickchartButtonEl.classList.add('colab-df-quickchart-complete');\n",
              "    }\n",
              "    (() => {\n",
              "      let quickchartButtonEl =\n",
              "        document.querySelector('#df-84b01cb4-92f9-4aad-8bef-839b00b80db2 button');\n",
              "      quickchartButtonEl.style.display =\n",
              "        google.colab.kernel.accessAllowed ? 'block' : 'none';\n",
              "    })();\n",
              "  </script>\n",
              "</div>\n",
              "\n",
              "    </div>\n",
              "  </div>\n"
            ],
            "application/vnd.google.colaboratory.intrinsic+json": {
              "type": "dataframe",
              "variable_name": "df"
            }
          },
          "metadata": {},
          "execution_count": 113
        }
      ]
    },
    {
      "cell_type": "code",
      "source": [
        "df.describe()"
      ],
      "metadata": {
        "colab": {
          "base_uri": "https://localhost:8080/",
          "height": 349
        },
        "id": "QEyjDyizBboz",
        "outputId": "90a1e6fe-fa2b-4b6d-f42a-64bc1264dc54"
      },
      "execution_count": null,
      "outputs": [
        {
          "output_type": "execute_result",
          "data": {
            "text/plain": [
              "            NumDots  SubdomainLevel     PathLevel     UrlLength       NumDash  \\\n",
              "count  10000.000000    10000.000000  10000.000000  10000.000000  10000.000000   \n",
              "mean       2.445100        0.586800      3.300300     70.264100      1.818000   \n",
              "std        1.346836        0.751214      1.863241     33.369877      3.106258   \n",
              "min        1.000000        0.000000      0.000000     12.000000      0.000000   \n",
              "25%        2.000000        0.000000      2.000000     48.000000      0.000000   \n",
              "50%        2.000000        1.000000      3.000000     62.000000      0.000000   \n",
              "75%        3.000000        1.000000      4.000000     84.000000      2.000000   \n",
              "max       21.000000       14.000000     18.000000    253.000000     55.000000   \n",
              "\n",
              "       NumDashInHostname      AtSymbol   TildeSymbol  NumUnderscore  \\\n",
              "count       10000.000000  10000.000000  10000.000000    10000.00000   \n",
              "mean            0.138900      0.000300      0.013100        0.32320   \n",
              "std             0.545744      0.017319      0.113709        1.11466   \n",
              "min             0.000000      0.000000      0.000000        0.00000   \n",
              "25%             0.000000      0.000000      0.000000        0.00000   \n",
              "50%             0.000000      0.000000      0.000000        0.00000   \n",
              "75%             0.000000      0.000000      0.000000        0.00000   \n",
              "max             9.000000      1.000000      1.000000       18.00000   \n",
              "\n",
              "         NumPercent  ...  IframeOrFrame  MissingTitle  ImagesOnlyInForm  \\\n",
              "count  10000.000000  ...   10000.000000   10000.00000      10000.000000   \n",
              "mean       0.073800  ...       0.339600       0.03220          0.030400   \n",
              "std        0.622248  ...       0.473597       0.17654          0.171694   \n",
              "min        0.000000  ...       0.000000       0.00000          0.000000   \n",
              "25%        0.000000  ...       0.000000       0.00000          0.000000   \n",
              "50%        0.000000  ...       0.000000       0.00000          0.000000   \n",
              "75%        0.000000  ...       1.000000       0.00000          0.000000   \n",
              "max       19.000000  ...       1.000000       1.00000          1.000000   \n",
              "\n",
              "       SubdomainLevelRT   UrlLengthRT  PctExtResourceUrlsRT  \\\n",
              "count      10000.000000  10000.000000          10000.000000   \n",
              "mean           0.956600      0.020200              0.353300   \n",
              "std            0.248037      0.820036              0.888908   \n",
              "min           -1.000000     -1.000000             -1.000000   \n",
              "25%            1.000000     -1.000000             -1.000000   \n",
              "50%            1.000000      0.000000              1.000000   \n",
              "75%            1.000000      1.000000              1.000000   \n",
              "max            1.000000      1.000000              1.000000   \n",
              "\n",
              "       AbnormalExtFormActionR  ExtMetaScriptLinkRT  \\\n",
              "count            10000.000000         10000.000000   \n",
              "mean                 0.793200             0.173400   \n",
              "std                  0.521019             0.755771   \n",
              "min                 -1.000000            -1.000000   \n",
              "25%                  1.000000             0.000000   \n",
              "50%                  1.000000             0.000000   \n",
              "75%                  1.000000             1.000000   \n",
              "max                  1.000000             1.000000   \n",
              "\n",
              "       PctExtNullSelfRedirectHyperlinksRT   CLASS_LABEL  \n",
              "count                        10000.000000  10000.000000  \n",
              "mean                             0.314100      0.500000  \n",
              "std                              0.897843      0.500025  \n",
              "min                             -1.000000      0.000000  \n",
              "25%                             -1.000000      0.000000  \n",
              "50%                              1.000000      0.500000  \n",
              "75%                              1.000000      1.000000  \n",
              "max                              1.000000      1.000000  \n",
              "\n",
              "[8 rows x 49 columns]"
            ],
            "text/html": [
              "\n",
              "  <div id=\"df-04133ebb-c05d-4cd3-881d-62ea3f6cdf1d\" class=\"colab-df-container\">\n",
              "    <div>\n",
              "<style scoped>\n",
              "    .dataframe tbody tr th:only-of-type {\n",
              "        vertical-align: middle;\n",
              "    }\n",
              "\n",
              "    .dataframe tbody tr th {\n",
              "        vertical-align: top;\n",
              "    }\n",
              "\n",
              "    .dataframe thead th {\n",
              "        text-align: right;\n",
              "    }\n",
              "</style>\n",
              "<table border=\"1\" class=\"dataframe\">\n",
              "  <thead>\n",
              "    <tr style=\"text-align: right;\">\n",
              "      <th></th>\n",
              "      <th>NumDots</th>\n",
              "      <th>SubdomainLevel</th>\n",
              "      <th>PathLevel</th>\n",
              "      <th>UrlLength</th>\n",
              "      <th>NumDash</th>\n",
              "      <th>NumDashInHostname</th>\n",
              "      <th>AtSymbol</th>\n",
              "      <th>TildeSymbol</th>\n",
              "      <th>NumUnderscore</th>\n",
              "      <th>NumPercent</th>\n",
              "      <th>...</th>\n",
              "      <th>IframeOrFrame</th>\n",
              "      <th>MissingTitle</th>\n",
              "      <th>ImagesOnlyInForm</th>\n",
              "      <th>SubdomainLevelRT</th>\n",
              "      <th>UrlLengthRT</th>\n",
              "      <th>PctExtResourceUrlsRT</th>\n",
              "      <th>AbnormalExtFormActionR</th>\n",
              "      <th>ExtMetaScriptLinkRT</th>\n",
              "      <th>PctExtNullSelfRedirectHyperlinksRT</th>\n",
              "      <th>CLASS_LABEL</th>\n",
              "    </tr>\n",
              "  </thead>\n",
              "  <tbody>\n",
              "    <tr>\n",
              "      <th>count</th>\n",
              "      <td>10000.000000</td>\n",
              "      <td>10000.000000</td>\n",
              "      <td>10000.000000</td>\n",
              "      <td>10000.000000</td>\n",
              "      <td>10000.000000</td>\n",
              "      <td>10000.000000</td>\n",
              "      <td>10000.000000</td>\n",
              "      <td>10000.000000</td>\n",
              "      <td>10000.00000</td>\n",
              "      <td>10000.000000</td>\n",
              "      <td>...</td>\n",
              "      <td>10000.000000</td>\n",
              "      <td>10000.00000</td>\n",
              "      <td>10000.000000</td>\n",
              "      <td>10000.000000</td>\n",
              "      <td>10000.000000</td>\n",
              "      <td>10000.000000</td>\n",
              "      <td>10000.000000</td>\n",
              "      <td>10000.000000</td>\n",
              "      <td>10000.000000</td>\n",
              "      <td>10000.000000</td>\n",
              "    </tr>\n",
              "    <tr>\n",
              "      <th>mean</th>\n",
              "      <td>2.445100</td>\n",
              "      <td>0.586800</td>\n",
              "      <td>3.300300</td>\n",
              "      <td>70.264100</td>\n",
              "      <td>1.818000</td>\n",
              "      <td>0.138900</td>\n",
              "      <td>0.000300</td>\n",
              "      <td>0.013100</td>\n",
              "      <td>0.32320</td>\n",
              "      <td>0.073800</td>\n",
              "      <td>...</td>\n",
              "      <td>0.339600</td>\n",
              "      <td>0.03220</td>\n",
              "      <td>0.030400</td>\n",
              "      <td>0.956600</td>\n",
              "      <td>0.020200</td>\n",
              "      <td>0.353300</td>\n",
              "      <td>0.793200</td>\n",
              "      <td>0.173400</td>\n",
              "      <td>0.314100</td>\n",
              "      <td>0.500000</td>\n",
              "    </tr>\n",
              "    <tr>\n",
              "      <th>std</th>\n",
              "      <td>1.346836</td>\n",
              "      <td>0.751214</td>\n",
              "      <td>1.863241</td>\n",
              "      <td>33.369877</td>\n",
              "      <td>3.106258</td>\n",
              "      <td>0.545744</td>\n",
              "      <td>0.017319</td>\n",
              "      <td>0.113709</td>\n",
              "      <td>1.11466</td>\n",
              "      <td>0.622248</td>\n",
              "      <td>...</td>\n",
              "      <td>0.473597</td>\n",
              "      <td>0.17654</td>\n",
              "      <td>0.171694</td>\n",
              "      <td>0.248037</td>\n",
              "      <td>0.820036</td>\n",
              "      <td>0.888908</td>\n",
              "      <td>0.521019</td>\n",
              "      <td>0.755771</td>\n",
              "      <td>0.897843</td>\n",
              "      <td>0.500025</td>\n",
              "    </tr>\n",
              "    <tr>\n",
              "      <th>min</th>\n",
              "      <td>1.000000</td>\n",
              "      <td>0.000000</td>\n",
              "      <td>0.000000</td>\n",
              "      <td>12.000000</td>\n",
              "      <td>0.000000</td>\n",
              "      <td>0.000000</td>\n",
              "      <td>0.000000</td>\n",
              "      <td>0.000000</td>\n",
              "      <td>0.00000</td>\n",
              "      <td>0.000000</td>\n",
              "      <td>...</td>\n",
              "      <td>0.000000</td>\n",
              "      <td>0.00000</td>\n",
              "      <td>0.000000</td>\n",
              "      <td>-1.000000</td>\n",
              "      <td>-1.000000</td>\n",
              "      <td>-1.000000</td>\n",
              "      <td>-1.000000</td>\n",
              "      <td>-1.000000</td>\n",
              "      <td>-1.000000</td>\n",
              "      <td>0.000000</td>\n",
              "    </tr>\n",
              "    <tr>\n",
              "      <th>25%</th>\n",
              "      <td>2.000000</td>\n",
              "      <td>0.000000</td>\n",
              "      <td>2.000000</td>\n",
              "      <td>48.000000</td>\n",
              "      <td>0.000000</td>\n",
              "      <td>0.000000</td>\n",
              "      <td>0.000000</td>\n",
              "      <td>0.000000</td>\n",
              "      <td>0.00000</td>\n",
              "      <td>0.000000</td>\n",
              "      <td>...</td>\n",
              "      <td>0.000000</td>\n",
              "      <td>0.00000</td>\n",
              "      <td>0.000000</td>\n",
              "      <td>1.000000</td>\n",
              "      <td>-1.000000</td>\n",
              "      <td>-1.000000</td>\n",
              "      <td>1.000000</td>\n",
              "      <td>0.000000</td>\n",
              "      <td>-1.000000</td>\n",
              "      <td>0.000000</td>\n",
              "    </tr>\n",
              "    <tr>\n",
              "      <th>50%</th>\n",
              "      <td>2.000000</td>\n",
              "      <td>1.000000</td>\n",
              "      <td>3.000000</td>\n",
              "      <td>62.000000</td>\n",
              "      <td>0.000000</td>\n",
              "      <td>0.000000</td>\n",
              "      <td>0.000000</td>\n",
              "      <td>0.000000</td>\n",
              "      <td>0.00000</td>\n",
              "      <td>0.000000</td>\n",
              "      <td>...</td>\n",
              "      <td>0.000000</td>\n",
              "      <td>0.00000</td>\n",
              "      <td>0.000000</td>\n",
              "      <td>1.000000</td>\n",
              "      <td>0.000000</td>\n",
              "      <td>1.000000</td>\n",
              "      <td>1.000000</td>\n",
              "      <td>0.000000</td>\n",
              "      <td>1.000000</td>\n",
              "      <td>0.500000</td>\n",
              "    </tr>\n",
              "    <tr>\n",
              "      <th>75%</th>\n",
              "      <td>3.000000</td>\n",
              "      <td>1.000000</td>\n",
              "      <td>4.000000</td>\n",
              "      <td>84.000000</td>\n",
              "      <td>2.000000</td>\n",
              "      <td>0.000000</td>\n",
              "      <td>0.000000</td>\n",
              "      <td>0.000000</td>\n",
              "      <td>0.00000</td>\n",
              "      <td>0.000000</td>\n",
              "      <td>...</td>\n",
              "      <td>1.000000</td>\n",
              "      <td>0.00000</td>\n",
              "      <td>0.000000</td>\n",
              "      <td>1.000000</td>\n",
              "      <td>1.000000</td>\n",
              "      <td>1.000000</td>\n",
              "      <td>1.000000</td>\n",
              "      <td>1.000000</td>\n",
              "      <td>1.000000</td>\n",
              "      <td>1.000000</td>\n",
              "    </tr>\n",
              "    <tr>\n",
              "      <th>max</th>\n",
              "      <td>21.000000</td>\n",
              "      <td>14.000000</td>\n",
              "      <td>18.000000</td>\n",
              "      <td>253.000000</td>\n",
              "      <td>55.000000</td>\n",
              "      <td>9.000000</td>\n",
              "      <td>1.000000</td>\n",
              "      <td>1.000000</td>\n",
              "      <td>18.00000</td>\n",
              "      <td>19.000000</td>\n",
              "      <td>...</td>\n",
              "      <td>1.000000</td>\n",
              "      <td>1.00000</td>\n",
              "      <td>1.000000</td>\n",
              "      <td>1.000000</td>\n",
              "      <td>1.000000</td>\n",
              "      <td>1.000000</td>\n",
              "      <td>1.000000</td>\n",
              "      <td>1.000000</td>\n",
              "      <td>1.000000</td>\n",
              "      <td>1.000000</td>\n",
              "    </tr>\n",
              "  </tbody>\n",
              "</table>\n",
              "<p>8 rows × 49 columns</p>\n",
              "</div>\n",
              "    <div class=\"colab-df-buttons\">\n",
              "\n",
              "  <div class=\"colab-df-container\">\n",
              "    <button class=\"colab-df-convert\" onclick=\"convertToInteractive('df-04133ebb-c05d-4cd3-881d-62ea3f6cdf1d')\"\n",
              "            title=\"Convert this dataframe to an interactive table.\"\n",
              "            style=\"display:none;\">\n",
              "\n",
              "  <svg xmlns=\"http://www.w3.org/2000/svg\" height=\"24px\" viewBox=\"0 -960 960 960\">\n",
              "    <path d=\"M120-120v-720h720v720H120Zm60-500h600v-160H180v160Zm220 220h160v-160H400v160Zm0 220h160v-160H400v160ZM180-400h160v-160H180v160Zm440 0h160v-160H620v160ZM180-180h160v-160H180v160Zm440 0h160v-160H620v160Z\"/>\n",
              "  </svg>\n",
              "    </button>\n",
              "\n",
              "  <style>\n",
              "    .colab-df-container {\n",
              "      display:flex;\n",
              "      gap: 12px;\n",
              "    }\n",
              "\n",
              "    .colab-df-convert {\n",
              "      background-color: #E8F0FE;\n",
              "      border: none;\n",
              "      border-radius: 50%;\n",
              "      cursor: pointer;\n",
              "      display: none;\n",
              "      fill: #1967D2;\n",
              "      height: 32px;\n",
              "      padding: 0 0 0 0;\n",
              "      width: 32px;\n",
              "    }\n",
              "\n",
              "    .colab-df-convert:hover {\n",
              "      background-color: #E2EBFA;\n",
              "      box-shadow: 0px 1px 2px rgba(60, 64, 67, 0.3), 0px 1px 3px 1px rgba(60, 64, 67, 0.15);\n",
              "      fill: #174EA6;\n",
              "    }\n",
              "\n",
              "    .colab-df-buttons div {\n",
              "      margin-bottom: 4px;\n",
              "    }\n",
              "\n",
              "    [theme=dark] .colab-df-convert {\n",
              "      background-color: #3B4455;\n",
              "      fill: #D2E3FC;\n",
              "    }\n",
              "\n",
              "    [theme=dark] .colab-df-convert:hover {\n",
              "      background-color: #434B5C;\n",
              "      box-shadow: 0px 1px 3px 1px rgba(0, 0, 0, 0.15);\n",
              "      filter: drop-shadow(0px 1px 2px rgba(0, 0, 0, 0.3));\n",
              "      fill: #FFFFFF;\n",
              "    }\n",
              "  </style>\n",
              "\n",
              "    <script>\n",
              "      const buttonEl =\n",
              "        document.querySelector('#df-04133ebb-c05d-4cd3-881d-62ea3f6cdf1d button.colab-df-convert');\n",
              "      buttonEl.style.display =\n",
              "        google.colab.kernel.accessAllowed ? 'block' : 'none';\n",
              "\n",
              "      async function convertToInteractive(key) {\n",
              "        const element = document.querySelector('#df-04133ebb-c05d-4cd3-881d-62ea3f6cdf1d');\n",
              "        const dataTable =\n",
              "          await google.colab.kernel.invokeFunction('convertToInteractive',\n",
              "                                                    [key], {});\n",
              "        if (!dataTable) return;\n",
              "\n",
              "        const docLinkHtml = 'Like what you see? Visit the ' +\n",
              "          '<a target=\"_blank\" href=https://colab.research.google.com/notebooks/data_table.ipynb>data table notebook</a>'\n",
              "          + ' to learn more about interactive tables.';\n",
              "        element.innerHTML = '';\n",
              "        dataTable['output_type'] = 'display_data';\n",
              "        await google.colab.output.renderOutput(dataTable, element);\n",
              "        const docLink = document.createElement('div');\n",
              "        docLink.innerHTML = docLinkHtml;\n",
              "        element.appendChild(docLink);\n",
              "      }\n",
              "    </script>\n",
              "  </div>\n",
              "\n",
              "\n",
              "<div id=\"df-201f7c8f-1515-434c-b65a-b3bdd189ebe9\">\n",
              "  <button class=\"colab-df-quickchart\" onclick=\"quickchart('df-201f7c8f-1515-434c-b65a-b3bdd189ebe9')\"\n",
              "            title=\"Suggest charts\"\n",
              "            style=\"display:none;\">\n",
              "\n",
              "<svg xmlns=\"http://www.w3.org/2000/svg\" height=\"24px\"viewBox=\"0 0 24 24\"\n",
              "     width=\"24px\">\n",
              "    <g>\n",
              "        <path d=\"M19 3H5c-1.1 0-2 .9-2 2v14c0 1.1.9 2 2 2h14c1.1 0 2-.9 2-2V5c0-1.1-.9-2-2-2zM9 17H7v-7h2v7zm4 0h-2V7h2v10zm4 0h-2v-4h2v4z\"/>\n",
              "    </g>\n",
              "</svg>\n",
              "  </button>\n",
              "\n",
              "<style>\n",
              "  .colab-df-quickchart {\n",
              "      --bg-color: #E8F0FE;\n",
              "      --fill-color: #1967D2;\n",
              "      --hover-bg-color: #E2EBFA;\n",
              "      --hover-fill-color: #174EA6;\n",
              "      --disabled-fill-color: #AAA;\n",
              "      --disabled-bg-color: #DDD;\n",
              "  }\n",
              "\n",
              "  [theme=dark] .colab-df-quickchart {\n",
              "      --bg-color: #3B4455;\n",
              "      --fill-color: #D2E3FC;\n",
              "      --hover-bg-color: #434B5C;\n",
              "      --hover-fill-color: #FFFFFF;\n",
              "      --disabled-bg-color: #3B4455;\n",
              "      --disabled-fill-color: #666;\n",
              "  }\n",
              "\n",
              "  .colab-df-quickchart {\n",
              "    background-color: var(--bg-color);\n",
              "    border: none;\n",
              "    border-radius: 50%;\n",
              "    cursor: pointer;\n",
              "    display: none;\n",
              "    fill: var(--fill-color);\n",
              "    height: 32px;\n",
              "    padding: 0;\n",
              "    width: 32px;\n",
              "  }\n",
              "\n",
              "  .colab-df-quickchart:hover {\n",
              "    background-color: var(--hover-bg-color);\n",
              "    box-shadow: 0 1px 2px rgba(60, 64, 67, 0.3), 0 1px 3px 1px rgba(60, 64, 67, 0.15);\n",
              "    fill: var(--button-hover-fill-color);\n",
              "  }\n",
              "\n",
              "  .colab-df-quickchart-complete:disabled,\n",
              "  .colab-df-quickchart-complete:disabled:hover {\n",
              "    background-color: var(--disabled-bg-color);\n",
              "    fill: var(--disabled-fill-color);\n",
              "    box-shadow: none;\n",
              "  }\n",
              "\n",
              "  .colab-df-spinner {\n",
              "    border: 2px solid var(--fill-color);\n",
              "    border-color: transparent;\n",
              "    border-bottom-color: var(--fill-color);\n",
              "    animation:\n",
              "      spin 1s steps(1) infinite;\n",
              "  }\n",
              "\n",
              "  @keyframes spin {\n",
              "    0% {\n",
              "      border-color: transparent;\n",
              "      border-bottom-color: var(--fill-color);\n",
              "      border-left-color: var(--fill-color);\n",
              "    }\n",
              "    20% {\n",
              "      border-color: transparent;\n",
              "      border-left-color: var(--fill-color);\n",
              "      border-top-color: var(--fill-color);\n",
              "    }\n",
              "    30% {\n",
              "      border-color: transparent;\n",
              "      border-left-color: var(--fill-color);\n",
              "      border-top-color: var(--fill-color);\n",
              "      border-right-color: var(--fill-color);\n",
              "    }\n",
              "    40% {\n",
              "      border-color: transparent;\n",
              "      border-right-color: var(--fill-color);\n",
              "      border-top-color: var(--fill-color);\n",
              "    }\n",
              "    60% {\n",
              "      border-color: transparent;\n",
              "      border-right-color: var(--fill-color);\n",
              "    }\n",
              "    80% {\n",
              "      border-color: transparent;\n",
              "      border-right-color: var(--fill-color);\n",
              "      border-bottom-color: var(--fill-color);\n",
              "    }\n",
              "    90% {\n",
              "      border-color: transparent;\n",
              "      border-bottom-color: var(--fill-color);\n",
              "    }\n",
              "  }\n",
              "</style>\n",
              "\n",
              "  <script>\n",
              "    async function quickchart(key) {\n",
              "      const quickchartButtonEl =\n",
              "        document.querySelector('#' + key + ' button');\n",
              "      quickchartButtonEl.disabled = true;  // To prevent multiple clicks.\n",
              "      quickchartButtonEl.classList.add('colab-df-spinner');\n",
              "      try {\n",
              "        const charts = await google.colab.kernel.invokeFunction(\n",
              "            'suggestCharts', [key], {});\n",
              "      } catch (error) {\n",
              "        console.error('Error during call to suggestCharts:', error);\n",
              "      }\n",
              "      quickchartButtonEl.classList.remove('colab-df-spinner');\n",
              "      quickchartButtonEl.classList.add('colab-df-quickchart-complete');\n",
              "    }\n",
              "    (() => {\n",
              "      let quickchartButtonEl =\n",
              "        document.querySelector('#df-201f7c8f-1515-434c-b65a-b3bdd189ebe9 button');\n",
              "      quickchartButtonEl.style.display =\n",
              "        google.colab.kernel.accessAllowed ? 'block' : 'none';\n",
              "    })();\n",
              "  </script>\n",
              "</div>\n",
              "\n",
              "    </div>\n",
              "  </div>\n"
            ],
            "application/vnd.google.colaboratory.intrinsic+json": {
              "type": "dataframe"
            }
          },
          "metadata": {},
          "execution_count": 114
        }
      ]
    },
    {
      "cell_type": "markdown",
      "source": [
        "Data Cleaning"
      ],
      "metadata": {
        "id": "gN8mxkFsVvJt"
      }
    },
    {
      "cell_type": "code",
      "source": [
        "df = df[df['NumDots'] < 20]\n",
        "df = df[df['NumDash'] < 40]"
      ],
      "metadata": {
        "id": "1n1diAwhBcgn"
      },
      "execution_count": null,
      "outputs": []
    },
    {
      "cell_type": "markdown",
      "source": [
        "## **1. 50 features set**\n",
        "\n",
        "In this, I have split the data into training set, to train the model and testing set, to test the model. I have created 6 different models for using testing set."
      ],
      "metadata": {
        "id": "eLiXczgQXIfw"
      }
    },
    {
      "cell_type": "markdown",
      "source": [
        "Train & Test Split"
      ],
      "metadata": {
        "id": "QTfquK-sWunk"
      }
    },
    {
      "cell_type": "code",
      "source": [
        "X = df.drop(\"CLASS_LABEL\",axis=1)\n",
        "Y = df['CLASS_LABEL']\n",
        "\n",
        "X_train, X_test, Y_train, Y_test = train_test_split(X, Y, test_size=0.2, random_state=42,stratify=Y)"
      ],
      "metadata": {
        "id": "Jcrtn63PWEmN"
      },
      "execution_count": null,
      "outputs": []
    },
    {
      "cell_type": "markdown",
      "source": [
        "Model Creation & Evaluation"
      ],
      "metadata": {
        "id": "w8JHY6zHXOo4"
      }
    },
    {
      "cell_type": "code",
      "source": [
        "models = {\n",
        "    \"Logistic Regression\":LogisticRegression(),\n",
        "    \"Decision Tree Classifier\":DecisionTreeClassifier(),\n",
        "    \"MLP Classifier\":MLPClassifier(hidden_layer_sizes=(10, 10), max_iter=1000, random_state=42),\n",
        "    \"XGBoost Classifier\":XGBClassifier(use_label_encoder=False, eval_metric='logloss'),\n",
        "    \"Support Vector Machine\":SVC(),\n",
        "    \"Random Forest Classifier\":RandomForestClassifier(n_estimators=100, random_state=42),\n",
        "}\n",
        "\n",
        "for name, model in models.items():\n",
        "    print(f\"--- {name} ---\")\n",
        "\n",
        "    model.fit(X_train, Y_train)\n",
        "\n",
        "    y_pred = model.predict(X_test)\n",
        "\n",
        "    accuracy = accuracy_score(Y_test, y_pred)\n",
        "    print(f\"Accuracy: {accuracy:.2f}\")\n",
        "\n",
        "    report = classification_report(Y_test, y_pred)\n",
        "    print(\"Classification Report:\")\n",
        "    print(report)\n",
        "    print(\"\\n\")"
      ],
      "metadata": {
        "colab": {
          "base_uri": "https://localhost:8080/"
        },
        "collapsed": true,
        "id": "C7zq5xHLanz3",
        "outputId": "79e27ec4-80e8-4ab8-9898-7c6aeb3612d7"
      },
      "execution_count": null,
      "outputs": [
        {
          "output_type": "stream",
          "name": "stdout",
          "text": [
            "--- Logistic Regression ---\n",
            "Accuracy: 0.94\n",
            "Classification Report:\n",
            "              precision    recall  f1-score   support\n",
            "\n",
            "           0       0.95      0.93      0.94      1000\n",
            "           1       0.93      0.95      0.94      1000\n",
            "\n",
            "    accuracy                           0.94      2000\n",
            "   macro avg       0.94      0.94      0.94      2000\n",
            "weighted avg       0.94      0.94      0.94      2000\n",
            "\n",
            "\n",
            "\n",
            "--- Decision Tree Classifier ---\n",
            "Accuracy: 0.96\n",
            "Classification Report:\n",
            "              precision    recall  f1-score   support\n",
            "\n",
            "           0       0.97      0.95      0.96      1000\n",
            "           1       0.96      0.97      0.96      1000\n",
            "\n",
            "    accuracy                           0.96      2000\n",
            "   macro avg       0.96      0.96      0.96      2000\n",
            "weighted avg       0.96      0.96      0.96      2000\n",
            "\n",
            "\n",
            "\n",
            "--- MLP Classifier ---\n",
            "Accuracy: 0.96\n",
            "Classification Report:\n",
            "              precision    recall  f1-score   support\n",
            "\n",
            "           0       0.96      0.96      0.96      1000\n",
            "           1       0.96      0.96      0.96      1000\n",
            "\n",
            "    accuracy                           0.96      2000\n",
            "   macro avg       0.96      0.96      0.96      2000\n",
            "weighted avg       0.96      0.96      0.96      2000\n",
            "\n",
            "\n",
            "\n",
            "--- XGBoost Classifier ---\n",
            "Accuracy: 0.99\n",
            "Classification Report:\n",
            "              precision    recall  f1-score   support\n",
            "\n",
            "           0       0.99      0.99      0.99      1000\n",
            "           1       0.99      0.99      0.99      1000\n",
            "\n",
            "    accuracy                           0.99      2000\n",
            "   macro avg       0.99      0.99      0.99      2000\n",
            "weighted avg       0.99      0.99      0.99      2000\n",
            "\n",
            "\n",
            "\n",
            "--- Support Vector Machine ---\n",
            "Accuracy: 0.87\n",
            "Classification Report:\n",
            "              precision    recall  f1-score   support\n",
            "\n",
            "           0       0.90      0.82      0.86      1000\n",
            "           1       0.84      0.91      0.87      1000\n",
            "\n",
            "    accuracy                           0.87      2000\n",
            "   macro avg       0.87      0.87      0.87      2000\n",
            "weighted avg       0.87      0.87      0.87      2000\n",
            "\n",
            "\n",
            "\n",
            "--- Random Forest Classifier ---\n",
            "Accuracy: 0.99\n",
            "Classification Report:\n",
            "              precision    recall  f1-score   support\n",
            "\n",
            "           0       0.99      0.99      0.99      1000\n",
            "           1       0.99      0.99      0.99      1000\n",
            "\n",
            "    accuracy                           0.99      2000\n",
            "   macro avg       0.99      0.99      0.99      2000\n",
            "weighted avg       0.99      0.99      0.99      2000\n",
            "\n",
            "\n",
            "\n"
          ]
        }
      ]
    },
    {
      "cell_type": "markdown",
      "source": [
        "## **2. 25 features set**\n",
        "\n",
        "In this, I have calculated the correlation matrix and created a separate dataset for those features. I have used this new dataset for training the models."
      ],
      "metadata": {
        "id": "RiJzJvsSbvt5"
      }
    },
    {
      "cell_type": "markdown",
      "source": [
        "Correlation"
      ],
      "metadata": {
        "id": "n0Yck_kpbyo9"
      }
    },
    {
      "cell_type": "code",
      "source": [
        "correlation_matrix = df.corr()\n",
        "target_correlation = correlation_matrix['CLASS_LABEL']\n",
        "target_correlation_without_self = target_correlation[target_correlation.index != 'CLASS_LABEL']\n",
        "absolute_correlations = target_correlation_without_self.abs()\n",
        "\n",
        "#Maximum absolute correlation\n",
        "max_correlation_value = absolute_correlations.max()\n",
        "max_correlated_feature = absolute_correlations.idxmax()\n",
        "print(f\"Maximum correlation value: {max_correlation_value}\")\n",
        "print(f\"Feature with maximum correlation: {max_correlated_feature}\")\n",
        "\n",
        "#Minimum absolute correlation\n",
        "min_correlation_value = absolute_correlations.min()\n",
        "min_correlated_feature = absolute_correlations.idxmin()\n",
        "print(f\"Minimum correlation value: {min_correlation_value}\")\n",
        "print(f\"Feature with minimum correlation: {min_correlated_feature}\")\n",
        "\n",
        "#Filter features with |correlation| > 0.1\n",
        "target_correlation = correlation_matrix['CLASS_LABEL'].abs()\n",
        "\n",
        "selected_features = target_correlation[target_correlation > 0.1].index.tolist()\n",
        "selected_features.remove('CLASS_LABEL')\n",
        "\n",
        "#New dataset with filtered features\n",
        "filtered_df = df[selected_features + ['CLASS_LABEL']]\n",
        "len(selected_features)"
      ],
      "metadata": {
        "colab": {
          "base_uri": "https://localhost:8080/"
        },
        "id": "P91gT6ZjcEtW",
        "outputId": "8864e403-ce6e-4783-918d-f1d6c058fd68"
      },
      "execution_count": null,
      "outputs": [
        {
          "output_type": "stream",
          "name": "stdout",
          "text": [
            "Maximum correlation value: 0.5404775593220177\n",
            "Feature with maximum correlation: PctExtNullSelfRedirectHyperlinksRT\n",
            "Minimum correlation value: 0.0012004667011330167\n",
            "Feature with minimum correlation: ImagesOnlyInForm\n"
          ]
        },
        {
          "output_type": "execute_result",
          "data": {
            "text/plain": [
              "24"
            ]
          },
          "metadata": {},
          "execution_count": 118
        }
      ]
    },
    {
      "cell_type": "markdown",
      "source": [
        "Train & Test Split"
      ],
      "metadata": {
        "id": "c83AYcwfdBeW"
      }
    },
    {
      "cell_type": "code",
      "source": [
        "X = filtered_df.drop(columns='CLASS_LABEL')\n",
        "Y = filtered_df['CLASS_LABEL']\n",
        "\n",
        "X_train, X_test, Y_train, Y_test = train_test_split(X, Y, test_size=0.3, random_state=42)"
      ],
      "metadata": {
        "id": "Ryv-jAoVbx9u"
      },
      "execution_count": null,
      "outputs": []
    },
    {
      "cell_type": "markdown",
      "source": [
        "Model Creation and Evaluation"
      ],
      "metadata": {
        "id": "DwG3YtYzdQUk"
      }
    },
    {
      "cell_type": "code",
      "source": [
        "models = {\n",
        "    \"Logistic Regression\":LogisticRegression(),\n",
        "    \"Decision Tree Classifier\":DecisionTreeClassifier(),\n",
        "    \"MLP Classifier\":MLPClassifier(hidden_layer_sizes=(10, 10), max_iter=1000, random_state=42),\n",
        "    \"XGBoost Classifier\":XGBClassifier(use_label_encoder=False, eval_metric='logloss'),\n",
        "    \"Support Vector Machine\":SVC(),\n",
        "    \"Random Forest Classifier\":RandomForestClassifier(n_estimators=100, random_state=42),\n",
        "}\n",
        "\n",
        "for name, model in models.items():\n",
        "    print(f\"--- {name} ---\")\n",
        "\n",
        "    model.fit(X_train, Y_train)\n",
        "\n",
        "    y_pred = model.predict(X_test)\n",
        "\n",
        "    accuracy = accuracy_score(Y_test, y_pred)\n",
        "    print(f\"Accuracy: {accuracy:.2f}\")\n",
        "\n",
        "    report = classification_report(Y_test, y_pred)\n",
        "    print(\"Classification Report:\")\n",
        "    print(report)\n",
        "    print(\"\\n\")"
      ],
      "metadata": {
        "colab": {
          "base_uri": "https://localhost:8080/"
        },
        "id": "MjS740sIdUQk",
        "outputId": "523bf0b4-ccf7-41da-9287-feaaa7b730c6"
      },
      "execution_count": null,
      "outputs": [
        {
          "output_type": "stream",
          "name": "stdout",
          "text": [
            "--- Logistic Regression ---\n",
            "Accuracy: 0.93\n",
            "Classification Report:\n",
            "              precision    recall  f1-score   support\n",
            "\n",
            "           0       0.92      0.92      0.92      1453\n",
            "           1       0.93      0.93      0.93      1547\n",
            "\n",
            "    accuracy                           0.93      3000\n",
            "   macro avg       0.93      0.93      0.93      3000\n",
            "weighted avg       0.93      0.93      0.93      3000\n",
            "\n",
            "\n",
            "\n",
            "--- Decision Tree Classifier ---\n",
            "Accuracy: 0.97\n",
            "Classification Report:\n",
            "              precision    recall  f1-score   support\n",
            "\n",
            "           0       0.97      0.96      0.97      1453\n",
            "           1       0.97      0.97      0.97      1547\n",
            "\n",
            "    accuracy                           0.97      3000\n",
            "   macro avg       0.97      0.97      0.97      3000\n",
            "weighted avg       0.97      0.97      0.97      3000\n",
            "\n",
            "\n",
            "\n",
            "--- MLP Classifier ---\n",
            "Accuracy: 0.94\n",
            "Classification Report:\n",
            "              precision    recall  f1-score   support\n",
            "\n",
            "           0       0.94      0.95      0.94      1453\n",
            "           1       0.95      0.94      0.95      1547\n",
            "\n",
            "    accuracy                           0.94      3000\n",
            "   macro avg       0.94      0.94      0.94      3000\n",
            "weighted avg       0.94      0.94      0.94      3000\n",
            "\n",
            "\n",
            "\n",
            "--- XGBoost Classifier ---\n",
            "Accuracy: 0.98\n",
            "Classification Report:\n",
            "              precision    recall  f1-score   support\n",
            "\n",
            "           0       0.98      0.98      0.98      1453\n",
            "           1       0.98      0.98      0.98      1547\n",
            "\n",
            "    accuracy                           0.98      3000\n",
            "   macro avg       0.98      0.98      0.98      3000\n",
            "weighted avg       0.98      0.98      0.98      3000\n",
            "\n",
            "\n",
            "\n",
            "--- Support Vector Machine ---\n",
            "Accuracy: 0.91\n",
            "Classification Report:\n",
            "              precision    recall  f1-score   support\n",
            "\n",
            "           0       0.91      0.91      0.91      1453\n",
            "           1       0.91      0.92      0.91      1547\n",
            "\n",
            "    accuracy                           0.91      3000\n",
            "   macro avg       0.91      0.91      0.91      3000\n",
            "weighted avg       0.91      0.91      0.91      3000\n",
            "\n",
            "\n",
            "\n",
            "--- Random Forest Classifier ---\n",
            "Accuracy: 0.98\n",
            "Classification Report:\n",
            "              precision    recall  f1-score   support\n",
            "\n",
            "           0       0.98      0.98      0.98      1453\n",
            "           1       0.98      0.98      0.98      1547\n",
            "\n",
            "    accuracy                           0.98      3000\n",
            "   macro avg       0.98      0.98      0.98      3000\n",
            "weighted avg       0.98      0.98      0.98      3000\n",
            "\n",
            "\n",
            "\n"
          ]
        }
      ]
    },
    {
      "cell_type": "markdown",
      "source": [
        "## **3.Correlation reduced with 90% pve**\n",
        "\n",
        "In this, PCA is used to reduce dimensionality by retaining key patterns in data, while PVE helps determine the number of components needed to capture the desired variance. So, I have calculated for 90% PVE for new dataset(25 features set). According to it, there are 17 components that account for at least 90% of the variance."
      ],
      "metadata": {
        "id": "TSekWPmgpQBB"
      }
    },
    {
      "cell_type": "code",
      "source": [
        "X = filtered_df.drop(columns='CLASS_LABEL')\n",
        "Y = filtered_df['CLASS_LABEL']"
      ],
      "metadata": {
        "id": "K4WPY4eiz8L5"
      },
      "execution_count": null,
      "outputs": []
    },
    {
      "cell_type": "code",
      "source": [
        "numerical_data = filtered_df.select_dtypes(include=['float64', 'int64'])\n",
        "numerical_data = filtered_df.select_dtypes(include=['float64', 'int64'])\n",
        "\n",
        "# Standardize the data (PCA requires standardized data for meaningful results)\n",
        "scaler = StandardScaler()\n",
        "standardized_data = scaler.fit_transform(numerical_data)\n",
        "\n",
        "# Apply PCA\n",
        "pca = PCA()\n",
        "pca.fit(standardized_data)\n",
        "\n",
        "# Calculate Proportion of Variance Explained (PVE) and Cumulative PVE\n",
        "explained_variance_ratio = pca.explained_variance_ratio_\n",
        "cumulative_variance_ratio = np.cumsum(explained_variance_ratio)\n",
        "\n",
        "# Determine the number of components needed for 90% variance\n",
        "num_components_90 = np.argmax(cumulative_variance_ratio >= 0.90) + 1\n",
        "\n",
        "X_pca = PCA(n_components=num_components_90).fit_transform(standardized_data)\n",
        "\n",
        "# Output results\n",
        "print(f\"Number of components to retain 90% variance: {num_components_90}\")"
      ],
      "metadata": {
        "colab": {
          "base_uri": "https://localhost:8080/"
        },
        "id": "mlf4sqx3paWn",
        "outputId": "7bd90652-370f-4e23-f409-ed5df6cd376f"
      },
      "execution_count": null,
      "outputs": [
        {
          "output_type": "stream",
          "name": "stdout",
          "text": [
            "Number of components to retain 90% variance: 17\n"
          ]
        }
      ]
    },
    {
      "cell_type": "markdown",
      "source": [
        "Train & Test Split"
      ],
      "metadata": {
        "id": "gZkHHtvyp5I8"
      }
    },
    {
      "cell_type": "code",
      "source": [
        "X_train, X_test, Y_train, Y_test = train_test_split(X_pca, Y, test_size=0.3, random_state=42)"
      ],
      "metadata": {
        "id": "viqTMD7jphER"
      },
      "execution_count": null,
      "outputs": []
    },
    {
      "cell_type": "markdown",
      "source": [
        "Model Creation and Evaluation"
      ],
      "metadata": {
        "id": "3GvAyqOTqH9J"
      }
    },
    {
      "cell_type": "code",
      "source": [
        "models = {\n",
        "    \"Logistic Regression\":LogisticRegression(),\n",
        "    \"Decision Tree Classifier\":DecisionTreeClassifier(),\n",
        "    \"MLP Classifier\":MLPClassifier(hidden_layer_sizes=(10, 10), max_iter=1000, random_state=42),\n",
        "    \"XGBoost Classifier\":XGBClassifier(use_label_encoder=False, eval_metric='logloss'),\n",
        "    \"Support Vector Machine\":SVC(),\n",
        "    \"Random Forest Classifier\":RandomForestClassifier(n_estimators=100, random_state=42),\n",
        "}\n",
        "\n",
        "for name, model in models.items():\n",
        "    print(f\"--- {name} ---\")\n",
        "\n",
        "    model.fit(X_train, Y_train)\n",
        "\n",
        "    y_pred = model.predict(X_test)\n",
        "\n",
        "    accuracy = accuracy_score(Y_test, y_pred)\n",
        "    print(f\"Accuracy: {accuracy:.2f}\")\n",
        "\n",
        "    report = classification_report(Y_test, y_pred)\n",
        "    print(\"Classification Report:\")\n",
        "    print(report)\n",
        "    print(\"\\n\")"
      ],
      "metadata": {
        "colab": {
          "base_uri": "https://localhost:8080/"
        },
        "id": "dS5rStT0p4bQ",
        "outputId": "c818758a-c0b6-4556-e533-aea9cc771449"
      },
      "execution_count": null,
      "outputs": [
        {
          "output_type": "stream",
          "name": "stdout",
          "text": [
            "--- Logistic Regression ---\n",
            "Accuracy: 0.99\n",
            "Classification Report:\n",
            "              precision    recall  f1-score   support\n",
            "\n",
            "           0       0.99      0.99      0.99      1453\n",
            "           1       0.99      0.99      0.99      1547\n",
            "\n",
            "    accuracy                           0.99      3000\n",
            "   macro avg       0.99      0.99      0.99      3000\n",
            "weighted avg       0.99      0.99      0.99      3000\n",
            "\n",
            "\n",
            "\n",
            "--- Decision Tree Classifier ---\n",
            "Accuracy: 0.97\n",
            "Classification Report:\n",
            "              precision    recall  f1-score   support\n",
            "\n",
            "           0       0.97      0.98      0.97      1453\n",
            "           1       0.98      0.97      0.98      1547\n",
            "\n",
            "    accuracy                           0.97      3000\n",
            "   macro avg       0.97      0.97      0.97      3000\n",
            "weighted avg       0.97      0.97      0.97      3000\n",
            "\n",
            "\n",
            "\n",
            "--- MLP Classifier ---\n",
            "Accuracy: 1.00\n",
            "Classification Report:\n",
            "              precision    recall  f1-score   support\n",
            "\n",
            "           0       1.00      1.00      1.00      1453\n",
            "           1       1.00      1.00      1.00      1547\n",
            "\n",
            "    accuracy                           1.00      3000\n",
            "   macro avg       1.00      1.00      1.00      3000\n",
            "weighted avg       1.00      1.00      1.00      3000\n",
            "\n",
            "\n",
            "\n",
            "--- XGBoost Classifier ---\n",
            "Accuracy: 0.99\n",
            "Classification Report:\n",
            "              precision    recall  f1-score   support\n",
            "\n",
            "           0       0.99      0.99      0.99      1453\n",
            "           1       0.99      0.99      0.99      1547\n",
            "\n",
            "    accuracy                           0.99      3000\n",
            "   macro avg       0.99      0.99      0.99      3000\n",
            "weighted avg       0.99      0.99      0.99      3000\n",
            "\n",
            "\n",
            "\n",
            "--- Support Vector Machine ---\n",
            "Accuracy: 0.99\n",
            "Classification Report:\n",
            "              precision    recall  f1-score   support\n",
            "\n",
            "           0       0.99      1.00      0.99      1453\n",
            "           1       1.00      0.99      0.99      1547\n",
            "\n",
            "    accuracy                           0.99      3000\n",
            "   macro avg       0.99      0.99      0.99      3000\n",
            "weighted avg       0.99      0.99      0.99      3000\n",
            "\n",
            "\n",
            "\n",
            "--- Random Forest Classifier ---\n",
            "Accuracy: 0.99\n",
            "Classification Report:\n",
            "              precision    recall  f1-score   support\n",
            "\n",
            "           0       0.99      0.99      0.99      1453\n",
            "           1       0.99      0.99      0.99      1547\n",
            "\n",
            "    accuracy                           0.99      3000\n",
            "   macro avg       0.99      0.99      0.99      3000\n",
            "weighted avg       0.99      0.99      0.99      3000\n",
            "\n",
            "\n",
            "\n"
          ]
        }
      ]
    },
    {
      "cell_type": "markdown",
      "source": [
        "## **4. 50 features set with 90% pve**\n",
        "\n",
        "In this, I have calculated for 90% PVE for original dataset (50 features). According to it, there are 30 components that account for at least 90% of the variance."
      ],
      "metadata": {
        "id": "07HOfA94ql18"
      }
    },
    {
      "cell_type": "code",
      "source": [
        "df = pd.read_csv('/content/Phishing_Legitimate_full.csv')"
      ],
      "metadata": {
        "id": "YMoSYEe0rDPa"
      },
      "execution_count": null,
      "outputs": []
    },
    {
      "cell_type": "code",
      "source": [
        "X = df.drop('CLASS_LABEL', axis=1)\n",
        "Y = df['CLASS_LABEL']"
      ],
      "metadata": {
        "id": "uCq-_WJ5zhVi"
      },
      "execution_count": null,
      "outputs": []
    },
    {
      "cell_type": "code",
      "source": [
        "pca = PCA()\n",
        "scaler = StandardScaler()\n",
        "X_standardized = scaler.fit_transform(X)\n",
        "pca.fit(X_standardized)\n",
        "\n",
        "# Calculate cumulative PVE and determine the number of components for 85% variance\n",
        "explained_variance_ratio = pca.explained_variance_ratio_\n",
        "cumulative_variance_ratio = np.cumsum(explained_variance_ratio)\n",
        "num_components_90 = np.argmax(cumulative_variance_ratio >= 0.90) + 1\n",
        "\n",
        "print(f\"Number of components to retain 90% variance: {num_components_90}\")\n",
        "\n",
        "# Transform the data to the reduced PCA space\n",
        "X_pca = PCA(n_components=num_components_90).fit_transform(X_standardized)"
      ],
      "metadata": {
        "colab": {
          "base_uri": "https://localhost:8080/"
        },
        "id": "4LmYqUF-qoTI",
        "outputId": "3c5a61c7-7d0e-4794-fdda-50be305627f6"
      },
      "execution_count": null,
      "outputs": [
        {
          "output_type": "stream",
          "name": "stdout",
          "text": [
            "Number of components to retain 90% variance: 30\n"
          ]
        }
      ]
    },
    {
      "cell_type": "markdown",
      "source": [
        "Train & Test Split"
      ],
      "metadata": {
        "id": "lb-DZUoKrNRa"
      }
    },
    {
      "cell_type": "code",
      "source": [
        "X_train, X_test, Y_train, Y_test = train_test_split(X_pca, Y, test_size=0.3, random_state=42)"
      ],
      "metadata": {
        "id": "1JbRNgfVq-Oq"
      },
      "execution_count": null,
      "outputs": []
    },
    {
      "cell_type": "markdown",
      "source": [
        "Model Creation and Evaluation"
      ],
      "metadata": {
        "id": "eFwGwlKnsafP"
      }
    },
    {
      "cell_type": "code",
      "source": [
        "models = {\n",
        "    \"Logistic Regression\":LogisticRegression(),\n",
        "    \"Decision Tree Classifier\":DecisionTreeClassifier(),\n",
        "    \"MLP Classifier\":MLPClassifier(hidden_layer_sizes=(10, 10), max_iter=1000, random_state=42),\n",
        "    \"XGBoost Classifier\":XGBClassifier(use_label_encoder=False, eval_metric='logloss'),\n",
        "    \"Support Vector Machine\":SVC(),\n",
        "    \"Random Forest Classifier\":RandomForestClassifier(n_estimators=100, random_state=42),\n",
        "}\n",
        "\n",
        "for name, model in models.items():\n",
        "    print(f\"--- {name} ---\")\n",
        "\n",
        "    model.fit(X_train, Y_train)\n",
        "\n",
        "    y_pred = model.predict(X_test)\n",
        "\n",
        "    accuracy = accuracy_score(Y_test, y_pred)\n",
        "    print(f\"Accuracy: {accuracy:.2f}\")\n",
        "\n",
        "    report = classification_report(Y_test, y_pred)\n",
        "    print(\"Classification Report:\")\n",
        "    print(report)\n",
        "    print(\"\\n\")"
      ],
      "metadata": {
        "colab": {
          "base_uri": "https://localhost:8080/"
        },
        "id": "Pv4LvAbZseYS",
        "outputId": "f26c8396-4b1c-41ed-f389-a813ac4ed4e7"
      },
      "execution_count": null,
      "outputs": [
        {
          "output_type": "stream",
          "name": "stdout",
          "text": [
            "--- Logistic Regression ---\n",
            "Accuracy: 0.98\n",
            "Classification Report:\n",
            "              precision    recall  f1-score   support\n",
            "\n",
            "           0       0.98      0.98      0.98      1463\n",
            "           1       0.98      0.98      0.98      1537\n",
            "\n",
            "    accuracy                           0.98      3000\n",
            "   macro avg       0.98      0.98      0.98      3000\n",
            "weighted avg       0.98      0.98      0.98      3000\n",
            "\n",
            "\n",
            "\n",
            "--- Decision Tree Classifier ---\n",
            "Accuracy: 0.95\n",
            "Classification Report:\n",
            "              precision    recall  f1-score   support\n",
            "\n",
            "           0       0.94      0.95      0.95      1463\n",
            "           1       0.96      0.94      0.95      1537\n",
            "\n",
            "    accuracy                           0.95      3000\n",
            "   macro avg       0.95      0.95      0.95      3000\n",
            "weighted avg       0.95      0.95      0.95      3000\n",
            "\n",
            "\n",
            "\n",
            "--- MLP Classifier ---\n",
            "Accuracy: 0.99\n",
            "Classification Report:\n",
            "              precision    recall  f1-score   support\n",
            "\n",
            "           0       0.99      0.99      0.99      1463\n",
            "           1       0.99      0.99      0.99      1537\n",
            "\n",
            "    accuracy                           0.99      3000\n",
            "   macro avg       0.99      0.99      0.99      3000\n",
            "weighted avg       0.99      0.99      0.99      3000\n",
            "\n",
            "\n",
            "\n",
            "--- XGBoost Classifier ---\n",
            "Accuracy: 0.99\n",
            "Classification Report:\n",
            "              precision    recall  f1-score   support\n",
            "\n",
            "           0       0.99      0.99      0.99      1463\n",
            "           1       0.99      0.99      0.99      1537\n",
            "\n",
            "    accuracy                           0.99      3000\n",
            "   macro avg       0.99      0.99      0.99      3000\n",
            "weighted avg       0.99      0.99      0.99      3000\n",
            "\n",
            "\n",
            "\n",
            "--- Support Vector Machine ---\n",
            "Accuracy: 0.99\n",
            "Classification Report:\n",
            "              precision    recall  f1-score   support\n",
            "\n",
            "           0       0.98      0.99      0.99      1463\n",
            "           1       0.99      0.98      0.99      1537\n",
            "\n",
            "    accuracy                           0.99      3000\n",
            "   macro avg       0.99      0.99      0.99      3000\n",
            "weighted avg       0.99      0.99      0.99      3000\n",
            "\n",
            "\n",
            "\n",
            "--- Random Forest Classifier ---\n",
            "Accuracy: 0.98\n",
            "Classification Report:\n",
            "              precision    recall  f1-score   support\n",
            "\n",
            "           0       0.98      0.98      0.98      1463\n",
            "           1       0.98      0.98      0.98      1537\n",
            "\n",
            "    accuracy                           0.98      3000\n",
            "   macro avg       0.98      0.98      0.98      3000\n",
            "weighted avg       0.98      0.98      0.98      3000\n",
            "\n",
            "\n",
            "\n"
          ]
        }
      ]
    },
    {
      "cell_type": "markdown",
      "source": [
        "## **5. 50 features set with 85% pve**\n",
        "\n",
        "In this, I have calculated for 85% PVE for original dataset(50 features). According to it, there are 26 components that account for at least 85% of the variance."
      ],
      "metadata": {
        "id": "yelgY2hOshRc"
      }
    },
    {
      "cell_type": "code",
      "source": [
        "pca = PCA()\n",
        "scaler = StandardScaler()\n",
        "X_standardized = scaler.fit_transform(X)\n",
        "pca.fit(X_standardized)\n",
        "\n",
        "# Calculate cumulative PVE and determine the number of components for 85% variance\n",
        "explained_variance_ratio = pca.explained_variance_ratio_\n",
        "cumulative_variance_ratio = np.cumsum(explained_variance_ratio)\n",
        "num_components_85 = np.argmax(cumulative_variance_ratio >= 0.85) + 1\n",
        "\n",
        "print(f\"Number of components to retain 85% variance: {num_components_85}\")\n",
        "\n",
        "# Transform the data to the reduced PCA space\n",
        "X_pca = PCA(n_components=num_components_85).fit_transform(X_standardized)"
      ],
      "metadata": {
        "colab": {
          "base_uri": "https://localhost:8080/"
        },
        "id": "6XMTtMmUss-v",
        "outputId": "b7005020-165f-41ed-9399-fea2ac27b5df"
      },
      "execution_count": null,
      "outputs": [
        {
          "output_type": "stream",
          "name": "stdout",
          "text": [
            "Number of components to retain 85% variance: 26\n"
          ]
        }
      ]
    },
    {
      "cell_type": "markdown",
      "source": [
        "Train & Test Split"
      ],
      "metadata": {
        "id": "ehGum0wPs1CN"
      }
    },
    {
      "cell_type": "code",
      "source": [
        "X_train, X_test, Y_train, Y_test = train_test_split(X_pca, Y, test_size=0.3, random_state=42)"
      ],
      "metadata": {
        "id": "TeqYKoa6s3e_"
      },
      "execution_count": null,
      "outputs": []
    },
    {
      "cell_type": "markdown",
      "source": [
        "Model Creation and Evaluation"
      ],
      "metadata": {
        "id": "l1dusaKvs6wP"
      }
    },
    {
      "cell_type": "code",
      "source": [
        "models = {\n",
        "    \"Logistic Regression\":LogisticRegression(),\n",
        "    \"Decision Tree Classifier\":DecisionTreeClassifier(),\n",
        "    \"MLP Classifier\":MLPClassifier(hidden_layer_sizes=(10, 10), max_iter=1000, random_state=42),\n",
        "    \"XGBoost Classifier\":XGBClassifier(use_label_encoder=False, eval_metric='logloss'),\n",
        "    \"Support Vector Machine\":SVC(),\n",
        "    \"Random Forest Classifier\":RandomForestClassifier(n_estimators=100, random_state=42),\n",
        "}\n",
        "\n",
        "for name, model in models.items():\n",
        "    print(f\"--- {name} ---\")\n",
        "\n",
        "    model.fit(X_train, Y_train)\n",
        "\n",
        "    y_pred = model.predict(X_test)\n",
        "\n",
        "    accuracy = accuracy_score(Y_test, y_pred)\n",
        "    print(f\"Accuracy: {accuracy:.2f}\")\n",
        "\n",
        "    report = classification_report(Y_test, y_pred)\n",
        "    print(\"Classification Report:\")\n",
        "    print(report)\n",
        "    print(\"\\n\")"
      ],
      "metadata": {
        "colab": {
          "base_uri": "https://localhost:8080/"
        },
        "id": "eO3wlKZ-s9E2",
        "outputId": "fe71723e-465c-47bf-ce79-5911ebe42d11"
      },
      "execution_count": null,
      "outputs": [
        {
          "output_type": "stream",
          "name": "stdout",
          "text": [
            "--- Logistic Regression ---\n",
            "Accuracy: 0.98\n",
            "Classification Report:\n",
            "              precision    recall  f1-score   support\n",
            "\n",
            "           0       0.97      0.98      0.98      1463\n",
            "           1       0.98      0.97      0.98      1537\n",
            "\n",
            "    accuracy                           0.98      3000\n",
            "   macro avg       0.98      0.98      0.98      3000\n",
            "weighted avg       0.98      0.98      0.98      3000\n",
            "\n",
            "\n",
            "\n",
            "--- Decision Tree Classifier ---\n",
            "Accuracy: 0.95\n",
            "Classification Report:\n",
            "              precision    recall  f1-score   support\n",
            "\n",
            "           0       0.94      0.94      0.94      1463\n",
            "           1       0.95      0.95      0.95      1537\n",
            "\n",
            "    accuracy                           0.95      3000\n",
            "   macro avg       0.95      0.95      0.95      3000\n",
            "weighted avg       0.95      0.95      0.95      3000\n",
            "\n",
            "\n",
            "\n",
            "--- MLP Classifier ---\n",
            "Accuracy: 0.99\n",
            "Classification Report:\n",
            "              precision    recall  f1-score   support\n",
            "\n",
            "           0       0.99      0.99      0.99      1463\n",
            "           1       0.99      0.99      0.99      1537\n",
            "\n",
            "    accuracy                           0.99      3000\n",
            "   macro avg       0.99      0.99      0.99      3000\n",
            "weighted avg       0.99      0.99      0.99      3000\n",
            "\n",
            "\n",
            "\n",
            "--- XGBoost Classifier ---\n",
            "Accuracy: 0.99\n",
            "Classification Report:\n",
            "              precision    recall  f1-score   support\n",
            "\n",
            "           0       0.98      0.98      0.98      1463\n",
            "           1       0.99      0.99      0.99      1537\n",
            "\n",
            "    accuracy                           0.99      3000\n",
            "   macro avg       0.99      0.99      0.99      3000\n",
            "weighted avg       0.99      0.99      0.99      3000\n",
            "\n",
            "\n",
            "\n",
            "--- Support Vector Machine ---\n",
            "Accuracy: 0.99\n",
            "Classification Report:\n",
            "              precision    recall  f1-score   support\n",
            "\n",
            "           0       0.98      0.99      0.99      1463\n",
            "           1       0.99      0.98      0.99      1537\n",
            "\n",
            "    accuracy                           0.99      3000\n",
            "   macro avg       0.99      0.99      0.99      3000\n",
            "weighted avg       0.99      0.99      0.99      3000\n",
            "\n",
            "\n",
            "\n",
            "--- Random Forest Classifier ---\n",
            "Accuracy: 0.98\n",
            "Classification Report:\n",
            "              precision    recall  f1-score   support\n",
            "\n",
            "           0       0.98      0.98      0.98      1463\n",
            "           1       0.98      0.98      0.98      1537\n",
            "\n",
            "    accuracy                           0.98      3000\n",
            "   macro avg       0.98      0.98      0.98      3000\n",
            "weighted avg       0.98      0.98      0.98      3000\n",
            "\n",
            "\n",
            "\n"
          ]
        }
      ]
    },
    {
      "cell_type": "markdown",
      "source": [
        "## **6. 50 features set with 80% pve**\n",
        "\n",
        "In this, I have calculated for 80% PVE for original dataset(50 features). According to it, there are 23 components that account for at least 80% of the variance."
      ],
      "metadata": {
        "id": "5M-dEaxYtIQJ"
      }
    },
    {
      "cell_type": "code",
      "source": [
        "pca = PCA()\n",
        "scaler = StandardScaler()\n",
        "X_standardized = scaler.fit_transform(X)\n",
        "pca.fit(X_standardized)\n",
        "\n",
        "# Calculate cumulative PVE and determine the number of components for 85% variance\n",
        "explained_variance_ratio = pca.explained_variance_ratio_\n",
        "cumulative_variance_ratio = np.cumsum(explained_variance_ratio)\n",
        "num_components_80 = np.argmax(cumulative_variance_ratio >= 0.80) + 1\n",
        "\n",
        "print(f\"Number of components to retain 80% variance: {num_components_80}\")\n",
        "\n",
        "# Transform the data to the reduced PCA space\n",
        "X_pca = PCA(n_components=num_components_80).fit_transform(X_standardized)"
      ],
      "metadata": {
        "colab": {
          "base_uri": "https://localhost:8080/"
        },
        "id": "pWmnzdC7tQvL",
        "outputId": "03b4de34-6c0e-4bfe-f087-1329f84b13a4"
      },
      "execution_count": null,
      "outputs": [
        {
          "output_type": "stream",
          "name": "stdout",
          "text": [
            "Number of components to retain 80% variance: 23\n"
          ]
        }
      ]
    },
    {
      "cell_type": "markdown",
      "source": [
        "Train & Test Split"
      ],
      "metadata": {
        "id": "vmpP6h9utXKT"
      }
    },
    {
      "cell_type": "code",
      "source": [
        "X_train, X_test, Y_train, Y_test = train_test_split(X_pca, Y, test_size=0.3, random_state=42)"
      ],
      "metadata": {
        "id": "7ZrMPPtCtaNs"
      },
      "execution_count": null,
      "outputs": []
    },
    {
      "cell_type": "markdown",
      "source": [
        "Model Creation and Evaluation"
      ],
      "metadata": {
        "id": "S6faCxgctdoB"
      }
    },
    {
      "cell_type": "code",
      "source": [
        "models = {\n",
        "    \"Logistic Regression\":LogisticRegression(),\n",
        "    \"Decision Tree Classifier\":DecisionTreeClassifier(),\n",
        "    \"MLP Classifier\":MLPClassifier(hidden_layer_sizes=(10, 10), max_iter=1000, random_state=42),\n",
        "    \"XGBoost Classifier\":XGBClassifier(use_label_encoder=False, eval_metric='logloss'),\n",
        "    \"Support Vector Machine\":SVC(),\n",
        "    \"Random Forest Classifier\":RandomForestClassifier(n_estimators=100, random_state=42),\n",
        "}\n",
        "\n",
        "\n",
        "for name, model in models.items():\n",
        "    print(f\"--- {name} ---\")\n",
        "\n",
        "    model.fit(X_train, Y_train)\n",
        "\n",
        "    y_pred = model.predict(X_test)\n",
        "\n",
        "    accuracy = accuracy_score(Y_test, y_pred)\n",
        "    print(f\"Accuracy: {accuracy:.2f}\")\n",
        "\n",
        "    report = classification_report(Y_test, y_pred)\n",
        "    print(\"Classification Report:\")\n",
        "    print(report)\n",
        "    print(\"\\n\")"
      ],
      "metadata": {
        "colab": {
          "base_uri": "https://localhost:8080/"
        },
        "id": "LASeDPjbtf3q",
        "outputId": "9c60d5e5-448b-48e8-84ea-420adb9a694c"
      },
      "execution_count": null,
      "outputs": [
        {
          "output_type": "stream",
          "name": "stdout",
          "text": [
            "--- Logistic Regression ---\n",
            "Accuracy: 0.98\n",
            "Classification Report:\n",
            "              precision    recall  f1-score   support\n",
            "\n",
            "           0       0.98      0.98      0.98      1463\n",
            "           1       0.98      0.98      0.98      1537\n",
            "\n",
            "    accuracy                           0.98      3000\n",
            "   macro avg       0.98      0.98      0.98      3000\n",
            "weighted avg       0.98      0.98      0.98      3000\n",
            "\n",
            "\n",
            "\n",
            "--- Decision Tree Classifier ---\n",
            "Accuracy: 0.95\n",
            "Classification Report:\n",
            "              precision    recall  f1-score   support\n",
            "\n",
            "           0       0.95      0.95      0.95      1463\n",
            "           1       0.95      0.95      0.95      1537\n",
            "\n",
            "    accuracy                           0.95      3000\n",
            "   macro avg       0.95      0.95      0.95      3000\n",
            "weighted avg       0.95      0.95      0.95      3000\n",
            "\n",
            "\n",
            "\n",
            "--- MLP Classifier ---\n",
            "Accuracy: 0.99\n",
            "Classification Report:\n",
            "              precision    recall  f1-score   support\n",
            "\n",
            "           0       0.98      0.99      0.99      1463\n",
            "           1       0.99      0.98      0.99      1537\n",
            "\n",
            "    accuracy                           0.99      3000\n",
            "   macro avg       0.99      0.99      0.99      3000\n",
            "weighted avg       0.99      0.99      0.99      3000\n",
            "\n",
            "\n",
            "\n",
            "--- XGBoost Classifier ---\n",
            "Accuracy: 0.98\n",
            "Classification Report:\n",
            "              precision    recall  f1-score   support\n",
            "\n",
            "           0       0.98      0.98      0.98      1463\n",
            "           1       0.99      0.99      0.99      1537\n",
            "\n",
            "    accuracy                           0.98      3000\n",
            "   macro avg       0.98      0.98      0.98      3000\n",
            "weighted avg       0.98      0.98      0.98      3000\n",
            "\n",
            "\n",
            "\n",
            "--- Support Vector Machine ---\n",
            "Accuracy: 0.98\n",
            "Classification Report:\n",
            "              precision    recall  f1-score   support\n",
            "\n",
            "           0       0.98      0.99      0.98      1463\n",
            "           1       0.99      0.98      0.98      1537\n",
            "\n",
            "    accuracy                           0.98      3000\n",
            "   macro avg       0.98      0.98      0.98      3000\n",
            "weighted avg       0.98      0.98      0.98      3000\n",
            "\n",
            "\n",
            "\n",
            "--- Random Forest Classifier ---\n",
            "Accuracy: 0.98\n",
            "Classification Report:\n",
            "              precision    recall  f1-score   support\n",
            "\n",
            "           0       0.98      0.99      0.98      1463\n",
            "           1       0.99      0.98      0.98      1537\n",
            "\n",
            "    accuracy                           0.98      3000\n",
            "   macro avg       0.98      0.98      0.98      3000\n",
            "weighted avg       0.98      0.98      0.98      3000\n",
            "\n",
            "\n",
            "\n"
          ]
        }
      ]
    },
    {
      "cell_type": "markdown",
      "source": [
        "## **7. 50 features set with 75% pve**\n",
        "\n",
        "In this, I have calculated for 75% PVE for original dataset(50 features). According to it, there are 21 components that account for at least 75% of the variance."
      ],
      "metadata": {
        "id": "AUza9peBtz8W"
      }
    },
    {
      "cell_type": "code",
      "source": [
        "pca = PCA()\n",
        "scaler = StandardScaler()\n",
        "X_standardized = scaler.fit_transform(X)\n",
        "pca.fit(X_standardized)\n",
        "\n",
        "# Calculate cumulative PVE and determine the number of components for 85% variance\n",
        "explained_variance_ratio = pca.explained_variance_ratio_\n",
        "cumulative_variance_ratio = np.cumsum(explained_variance_ratio)\n",
        "num_components_75 = np.argmax(cumulative_variance_ratio >= 0.75) + 1\n",
        "\n",
        "print(f\"Number of components to retain 75% variance: {num_components_75}\")\n",
        "\n",
        "# Transform the data to the reduced PCA space\n",
        "X_pca = PCA(n_components=num_components_75).fit_transform(X_standardized)"
      ],
      "metadata": {
        "colab": {
          "base_uri": "https://localhost:8080/"
        },
        "id": "vff7Y_5Rt5-e",
        "outputId": "3a438dd3-6f00-423f-e293-8ef705464bbe"
      },
      "execution_count": null,
      "outputs": [
        {
          "output_type": "stream",
          "name": "stdout",
          "text": [
            "Number of components to retain 75% variance: 21\n"
          ]
        }
      ]
    },
    {
      "cell_type": "markdown",
      "source": [
        "Train & Test Split"
      ],
      "metadata": {
        "id": "KmBQ8JY0uJLZ"
      }
    },
    {
      "cell_type": "code",
      "source": [
        "X_train, X_test, Y_train, Y_test = train_test_split(X_pca, Y, test_size=0.3, random_state=42)"
      ],
      "metadata": {
        "id": "w-Tgvb_PuLU6"
      },
      "execution_count": null,
      "outputs": []
    },
    {
      "cell_type": "markdown",
      "source": [
        "Model Creation and Evaluation"
      ],
      "metadata": {
        "id": "sDTceLoGuMKl"
      }
    },
    {
      "cell_type": "code",
      "source": [
        "models = {\n",
        "    \"Logistic Regression\":LogisticRegression(),\n",
        "    \"Decision Tree Classifier\":DecisionTreeClassifier(),\n",
        "    \"MLP Classifier\":MLPClassifier(hidden_layer_sizes=(10, 10), max_iter=1000, random_state=42),\n",
        "    \"XGBoost Classifier\":XGBClassifier(use_label_encoder=False, eval_metric='logloss'),\n",
        "    \"Support Vector Machine\":SVC(),\n",
        "    \"Random Forest Classifier\":RandomForestClassifier(n_estimators=100, random_state=42),\n",
        "}\n",
        "\n",
        "for name, model in models.items():\n",
        "    print(f\"--- {name} ---\")\n",
        "\n",
        "    model.fit(X_train, Y_train)\n",
        "\n",
        "    y_pred = model.predict(X_test)\n",
        "\n",
        "    accuracy = accuracy_score(Y_test, y_pred)\n",
        "    print(f\"Accuracy: {accuracy:.2f}\")\n",
        "\n",
        "    report = classification_report(Y_test, y_pred)\n",
        "    print(\"Classification Report:\")\n",
        "    print(report)\n",
        "    print(\"\\n\")"
      ],
      "metadata": {
        "colab": {
          "base_uri": "https://localhost:8080/"
        },
        "id": "t0mfyuawuPgK",
        "outputId": "e0207520-1e30-451d-b9d3-35a8b3809cb8"
      },
      "execution_count": null,
      "outputs": [
        {
          "output_type": "stream",
          "name": "stdout",
          "text": [
            "--- Logistic Regression ---\n",
            "Accuracy: 0.98\n",
            "Classification Report:\n",
            "              precision    recall  f1-score   support\n",
            "\n",
            "           0       0.97      0.98      0.98      1463\n",
            "           1       0.98      0.97      0.98      1537\n",
            "\n",
            "    accuracy                           0.98      3000\n",
            "   macro avg       0.98      0.98      0.98      3000\n",
            "weighted avg       0.98      0.98      0.98      3000\n",
            "\n",
            "\n",
            "\n",
            "--- Decision Tree Classifier ---\n",
            "Accuracy: 0.95\n",
            "Classification Report:\n",
            "              precision    recall  f1-score   support\n",
            "\n",
            "           0       0.95      0.94      0.95      1463\n",
            "           1       0.95      0.95      0.95      1537\n",
            "\n",
            "    accuracy                           0.95      3000\n",
            "   macro avg       0.95      0.95      0.95      3000\n",
            "weighted avg       0.95      0.95      0.95      3000\n",
            "\n",
            "\n",
            "\n",
            "--- MLP Classifier ---\n",
            "Accuracy: 0.98\n",
            "Classification Report:\n",
            "              precision    recall  f1-score   support\n",
            "\n",
            "           0       0.98      0.98      0.98      1463\n",
            "           1       0.98      0.98      0.98      1537\n",
            "\n",
            "    accuracy                           0.98      3000\n",
            "   macro avg       0.98      0.98      0.98      3000\n",
            "weighted avg       0.98      0.98      0.98      3000\n",
            "\n",
            "\n",
            "\n",
            "--- XGBoost Classifier ---\n",
            "Accuracy: 0.99\n",
            "Classification Report:\n",
            "              precision    recall  f1-score   support\n",
            "\n",
            "           0       0.99      0.98      0.98      1463\n",
            "           1       0.98      0.99      0.99      1537\n",
            "\n",
            "    accuracy                           0.99      3000\n",
            "   macro avg       0.99      0.99      0.99      3000\n",
            "weighted avg       0.99      0.99      0.99      3000\n",
            "\n",
            "\n",
            "\n",
            "--- Support Vector Machine ---\n",
            "Accuracy: 0.98\n",
            "Classification Report:\n",
            "              precision    recall  f1-score   support\n",
            "\n",
            "           0       0.98      0.99      0.98      1463\n",
            "           1       0.99      0.98      0.98      1537\n",
            "\n",
            "    accuracy                           0.98      3000\n",
            "   macro avg       0.98      0.98      0.98      3000\n",
            "weighted avg       0.98      0.98      0.98      3000\n",
            "\n",
            "\n",
            "\n",
            "--- Random Forest Classifier ---\n",
            "Accuracy: 0.98\n",
            "Classification Report:\n",
            "              precision    recall  f1-score   support\n",
            "\n",
            "           0       0.98      0.99      0.98      1463\n",
            "           1       0.99      0.98      0.98      1537\n",
            "\n",
            "    accuracy                           0.98      3000\n",
            "   macro avg       0.98      0.98      0.98      3000\n",
            "weighted avg       0.98      0.98      0.98      3000\n",
            "\n",
            "\n",
            "\n"
          ]
        }
      ]
    },
    {
      "cell_type": "markdown",
      "source": [
        "### **8. 50 features set with 70% pve**\n",
        "\n",
        "In this, I have calculated for 70% PVE for original dataset(50 features). According to it, there are 18 components that account for at least 70% of the variance."
      ],
      "metadata": {
        "id": "o7Bnz6lhuulW"
      }
    },
    {
      "cell_type": "code",
      "source": [
        "pca = PCA()\n",
        "scaler = StandardScaler()\n",
        "X_standardized = scaler.fit_transform(X)\n",
        "pca.fit(X_standardized)\n",
        "\n",
        "# Calculate cumulative PVE and determine the number of components for 85% variance\n",
        "explained_variance_ratio = pca.explained_variance_ratio_\n",
        "cumulative_variance_ratio = np.cumsum(explained_variance_ratio)\n",
        "num_components_70 = np.argmax(cumulative_variance_ratio >= 0.70) + 1\n",
        "\n",
        "print(f\"Number of components to retain 90% variance: {num_components_70}\")\n",
        "\n",
        "# Transform the data to the reduced PCA space\n",
        "X_pca = PCA(n_components=num_components_70).fit_transform(X_standardized)"
      ],
      "metadata": {
        "colab": {
          "base_uri": "https://localhost:8080/"
        },
        "id": "hLNUcAdCuzv5",
        "outputId": "042c38b6-44f7-4c3c-a039-3beaae8d8f2c"
      },
      "execution_count": null,
      "outputs": [
        {
          "output_type": "stream",
          "name": "stdout",
          "text": [
            "Number of components to retain 90% variance: 18\n"
          ]
        }
      ]
    },
    {
      "cell_type": "markdown",
      "source": [
        "Train & Test Split"
      ],
      "metadata": {
        "id": "EZfUf19vu59y"
      }
    },
    {
      "cell_type": "code",
      "source": [
        "X_train, X_test, Y_train, Y_test = train_test_split(X_pca, Y, test_size=0.3, random_state=42)"
      ],
      "metadata": {
        "id": "XLsmDsrPu8a5"
      },
      "execution_count": null,
      "outputs": []
    },
    {
      "cell_type": "markdown",
      "source": [
        "Model Creation and Evaluation"
      ],
      "metadata": {
        "id": "bLVb1O9fu-3i"
      }
    },
    {
      "cell_type": "code",
      "source": [
        "models = {\n",
        "    \"Logistic Regression\":LogisticRegression(),\n",
        "    \"Decision Tree Classifier\":DecisionTreeClassifier(),\n",
        "    \"MLP Classifier\":MLPClassifier(hidden_layer_sizes=(10, 10), max_iter=1000, random_state=42),\n",
        "    \"XGBoost Classifier\":XGBClassifier(use_label_encoder=False, eval_metric='logloss'),\n",
        "    \"Support Vector Machine\":SVC(),\n",
        "    \"Random Forest Classifier\":RandomForestClassifier(n_estimators=100, random_state=42),\n",
        "}\n",
        "\n",
        "for name, model in models.items():\n",
        "    print(f\"--- {name} ---\")\n",
        "\n",
        "    model.fit(X_train, Y_train)\n",
        "\n",
        "    y_pred = model.predict(X_test)\n",
        "\n",
        "    accuracy = accuracy_score(Y_test, y_pred)\n",
        "    print(f\"Accuracy: {accuracy:.2f}\")\n",
        "\n",
        "    report = classification_report(Y_test, y_pred)\n",
        "    print(\"Classification Report:\")\n",
        "    print(report)\n",
        "    print(\"\\n\")"
      ],
      "metadata": {
        "colab": {
          "base_uri": "https://localhost:8080/"
        },
        "id": "Al_GWeILvBoU",
        "outputId": "7e311664-a0fa-40e7-8f42-2a0e61f88079"
      },
      "execution_count": null,
      "outputs": [
        {
          "output_type": "stream",
          "name": "stdout",
          "text": [
            "--- Logistic Regression ---\n",
            "Accuracy: 0.97\n",
            "Classification Report:\n",
            "              precision    recall  f1-score   support\n",
            "\n",
            "           0       0.97      0.98      0.97      1463\n",
            "           1       0.98      0.97      0.97      1537\n",
            "\n",
            "    accuracy                           0.97      3000\n",
            "   macro avg       0.97      0.97      0.97      3000\n",
            "weighted avg       0.97      0.97      0.97      3000\n",
            "\n",
            "\n",
            "\n",
            "--- Decision Tree Classifier ---\n",
            "Accuracy: 0.95\n",
            "Classification Report:\n",
            "              precision    recall  f1-score   support\n",
            "\n",
            "           0       0.95      0.95      0.95      1463\n",
            "           1       0.96      0.95      0.95      1537\n",
            "\n",
            "    accuracy                           0.95      3000\n",
            "   macro avg       0.95      0.95      0.95      3000\n",
            "weighted avg       0.95      0.95      0.95      3000\n",
            "\n",
            "\n",
            "\n",
            "--- MLP Classifier ---\n",
            "Accuracy: 0.98\n",
            "Classification Report:\n",
            "              precision    recall  f1-score   support\n",
            "\n",
            "           0       0.98      0.98      0.98      1463\n",
            "           1       0.98      0.98      0.98      1537\n",
            "\n",
            "    accuracy                           0.98      3000\n",
            "   macro avg       0.98      0.98      0.98      3000\n",
            "weighted avg       0.98      0.98      0.98      3000\n",
            "\n",
            "\n",
            "\n",
            "--- XGBoost Classifier ---\n",
            "Accuracy: 0.99\n",
            "Classification Report:\n",
            "              precision    recall  f1-score   support\n",
            "\n",
            "           0       0.99      0.99      0.99      1463\n",
            "           1       0.99      0.99      0.99      1537\n",
            "\n",
            "    accuracy                           0.99      3000\n",
            "   macro avg       0.99      0.99      0.99      3000\n",
            "weighted avg       0.99      0.99      0.99      3000\n",
            "\n",
            "\n",
            "\n",
            "--- Support Vector Machine ---\n",
            "Accuracy: 0.98\n",
            "Classification Report:\n",
            "              precision    recall  f1-score   support\n",
            "\n",
            "           0       0.98      0.99      0.98      1463\n",
            "           1       0.99      0.98      0.98      1537\n",
            "\n",
            "    accuracy                           0.98      3000\n",
            "   macro avg       0.98      0.98      0.98      3000\n",
            "weighted avg       0.98      0.98      0.98      3000\n",
            "\n",
            "\n",
            "\n",
            "--- Random Forest Classifier ---\n",
            "Accuracy: 0.98\n",
            "Classification Report:\n",
            "              precision    recall  f1-score   support\n",
            "\n",
            "           0       0.97      0.99      0.98      1463\n",
            "           1       0.99      0.98      0.98      1537\n",
            "\n",
            "    accuracy                           0.98      3000\n",
            "   macro avg       0.98      0.98      0.98      3000\n",
            "weighted avg       0.98      0.98      0.98      3000\n",
            "\n",
            "\n",
            "\n"
          ]
        }
      ]
    },
    {
      "cell_type": "markdown",
      "source": [
        "**SVM Accuracy v/s No. of Components:**\n",
        "\n",
        "In this, I have plotted graph for accuracy values and no. of components for Support Vector Machine."
      ],
      "metadata": {
        "id": "CgshZXMc2K6B"
      }
    },
    {
      "cell_type": "code",
      "source": [
        "import matplotlib.pyplot as plt\n",
        "\n",
        "# Data\n",
        "x = [7, 9, 11, 13, 16,  18, 21, 23, 26, 30]\n",
        "y = [0.9763, 0.976, 0.97867, 0.98167, 0.98467,  0.98267, 0.9843, 0.984, 0.98567, 0.9853]\n",
        "\n",
        "# Plotting the graph\n",
        "plt.figure(figsize=(8, 5))\n",
        "plt.plot(x, y, marker='o', linestyle='-', color='b', label='Values')\n",
        "\n",
        "# Adding labels and title\n",
        "plt.title(\"SVM Accuracy v/s No. of components\", fontsize=14)\n",
        "plt.xlabel(\"No. of Components\", fontsize=12)\n",
        "plt.ylabel(\"Accuracy\", fontsize=12)\n",
        "plt.grid(True, linestyle='--', alpha=0.6)\n",
        "plt.legend()\n",
        "plt.show()"
      ],
      "metadata": {
        "colab": {
          "base_uri": "https://localhost:8080/",
          "height": 486
        },
        "id": "KiF-Klll2Rmx",
        "outputId": "85ee1177-af13-44a1-f8bc-f11247a1d35f"
      },
      "execution_count": null,
      "outputs": [
        {
          "output_type": "display_data",
          "data": {
            "text/plain": [
              "<Figure size 800x500 with 1 Axes>"
            ],
            "image/png": "[encoded data removed]"
          },
          "metadata": {}
        }
      ]
    },
    {
      "cell_type": "markdown",
      "source": [
        "**Heat Map:**\n",
        "\n",
        "In this, I have plotted the heat map for correlation matrix for all the numerical features."
      ],
      "metadata": {
        "id": "xSZzybC4sDAz"
      }
    },
    {
      "cell_type": "code",
      "source": [
        "corr = df.corr()\n",
        "cols = corr.nlargest(50, 'CLASS_LABEL')['CLASS_LABEL'].index\n",
        "cm = np.corrcoef(df[cols].values.T)\n",
        "sns.set_theme(font_scale=0.25)\n",
        "hm = sns.heatmap(cm, cbar=True, annot=True, square=True, fmt='.2f', annot_kws={'size': 4}, yticklabels=cols.values, xticklabels=cols.values)\n",
        "plt.show()"
      ],
      "metadata": {
        "id": "BoUD3rMq3GDV",
        "colab": {
          "base_uri": "https://localhost:8080/",
          "height": 489
        },
        "outputId": "e897f326-4e62-4913-c224-baf1f96db04b"
      },
      "execution_count": null,
      "outputs": [
        {
          "output_type": "display_data",
          "data": {
            "text/plain": [
              "<Figure size 640x480 with 2 Axes>"
            ],
            "image/png": "[encoded data removed]"
          },
          "metadata": {}
        }
      ]
    }
  ]
}